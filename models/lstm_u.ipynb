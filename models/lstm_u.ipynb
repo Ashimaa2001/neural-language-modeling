{
  "cells": [
    {
      "cell_type": "code",
      "execution_count": null,
      "metadata": {
        "id": "PZw1p0kjP21C"
      },
      "outputs": [],
      "source": [
        "import torch\n",
        "from torch import nn, optim\n",
        "from torch.utils.data import DataLoader, Dataset\n",
        "import torch.nn.functional as F\n",
        "import numpy as np\n",
        "import re\n",
        "import nltk\n",
        "from nltk.tokenize import sent_tokenize, word_tokenize\n",
        "import random\n",
        "import time\n",
        "from sklearn.metrics import accuracy_score, precision_recall_fscore_support\n",
        "from tqdm import tqdm\n",
        "from torch.nn.utils.rnn import pad_sequence"
      ]
    },
    {
      "cell_type": "code",
      "execution_count": null,
      "metadata": {
        "colab": {
          "base_uri": "https://localhost:8080/"
        },
        "id": "mqyOnAaRP65M",
        "outputId": "f43c37b7-c309-4980-be38-5f75cf042826"
      },
      "outputs": [
        {
          "name": "stderr",
          "output_type": "stream",
          "text": [
            "[nltk_data] Downloading package punkt to /root/nltk_data...\n",
            "[nltk_data]   Unzipping tokenizers/punkt.zip.\n",
            "[nltk_data] Downloading package punkt_tab to /root/nltk_data...\n",
            "[nltk_data]   Unzipping tokenizers/punkt_tab.zip.\n"
          ]
        },
        {
          "data": {
            "text/plain": [
              "True"
            ]
          },
          "execution_count": 2,
          "metadata": {},
          "output_type": "execute_result"
        }
      ],
      "source": [
        "nltk.download('punkt')\n",
        "nltk.download('punkt_tab')"
      ]
    },
    {
      "cell_type": "markdown",
      "metadata": {
        "id": "qMHK799fP_-x"
      },
      "source": [
        "PreProcessing"
      ]
    },
    {
      "cell_type": "code",
      "execution_count": null,
      "metadata": {
        "id": "72KYztL1QCFo"
      },
      "outputs": [],
      "source": [
        "\n",
        "def preprocess(data):\n",
        "    data = re.sub(r'\\n|\\s+', ' ', data) #newline and multiple spaces -> single space\n",
        "    data = re.sub(r'[’‘]', '\\'', data) #apostrophes\n",
        "    data = re.sub(r'[“”`\\' ]|[–—-]', ' ', data) #quotes and dashes\n",
        "    data = re.sub(r'(?<!\\w)([.!?])(?!\\w)', r' \\1 ', data) #dont remove punctuation\n",
        "    data = re.sub(r'[™•]', ' ', data) #remove other unwanted symbols\n",
        "    return data.strip() #strip extra spaces"
      ]
    },
    {
      "cell_type": "markdown",
      "metadata": {
        "id": "l3zie1dMQHtP"
      },
      "source": [
        "Tokenization"
      ]
    },
    {
      "cell_type": "code",
      "execution_count": null,
      "metadata": {
        "id": "K5NkZkUrQEhN"
      },
      "outputs": [],
      "source": [
        "def tokenize(data, min_length_sentences):\n",
        "    sentences = sent_tokenize(data)\n",
        "    sentences = [sentence for sentence in sentences if len(sentence.split()) >= min_length_sentences]\n",
        "\n",
        "    print(\"Length of sentences:\", len(sentences))\n",
        "\n",
        "    words_sentences = []\n",
        "\n",
        "    for sentence in sentences:\n",
        "        words = word_tokenize(sentence)\n",
        "        words = [word.lower() for word in words if word.lower() not in ['.', ',', '!', '?', ';', ':']]\n",
        "        words = ['<s>'] + words + ['</s>']\n",
        "        words_sentences.append(words)\n",
        "\n",
        "    return sentences, words_sentences"
      ]
    },
    {
      "cell_type": "markdown",
      "metadata": {
        "id": "ipxloaYCQKGv"
      },
      "source": [
        "Data Preparations"
      ]
    },
    {
      "cell_type": "code",
      "execution_count": null,
      "metadata": {
        "id": "G9YlMNBjQGzx"
      },
      "outputs": [],
      "source": [
        "def train_val_test_split(sentences, train_ratio=0.8, val_ratio=0.15, seed=None, num_shuffles=1):\n",
        "    if seed is not None:\n",
        "        random.seed(seed)\n",
        "\n",
        "    for _ in range(num_shuffles):\n",
        "        random.shuffle(sentences)\n",
        "\n",
        "    total_sentences = len(sentences)\n",
        "\n",
        "    train_size = int(total_sentences * train_ratio)\n",
        "    val_size = int(total_sentences * val_ratio)\n",
        "    test_size = total_sentences - train_size - val_size\n",
        "\n",
        "    train_sentences = sentences[:train_size]\n",
        "    val_sentences = sentences[train_size:train_size + val_size]\n",
        "    test_sentences = sentences[train_size + val_size:]\n",
        "\n",
        "    return train_sentences, val_sentences, test_sentences"
      ]
    },
    {
      "cell_type": "markdown",
      "metadata": {
        "id": "PWRk0izoQPzf"
      },
      "source": [
        "Load Glove Embeddings"
      ]
    },
    {
      "cell_type": "code",
      "execution_count": null,
      "metadata": {
        "id": "0tY4JTkCQNrS"
      },
      "outputs": [],
      "source": [
        "def create_glove_embeddings(glove_path):\n",
        "    glove = {}\n",
        "    embedding_dim = 0\n",
        "\n",
        "    with open(glove_path, 'r') as f:\n",
        "        for line in f:\n",
        "            values = line.split()\n",
        "            word = values[0]\n",
        "            vector = torch.tensor([float(val) for val in values[1:]])\n",
        "            glove[word] = vector\n",
        "            embedding_dim = len(values[1:])\n",
        "\n",
        "    glove['<UNK>'] = torch.mean(torch.stack(list(glove.values())), dim=0)\n",
        "    glove['<PAD>'] = torch.zeros(embedding_dim)\n",
        "    glove['<s>'] = torch.rand(embedding_dim)\n",
        "    glove['</s>'] = torch.rand(embedding_dim)\n",
        "\n",
        "    return glove"
      ]
    },
    {
      "cell_type": "markdown",
      "metadata": {
        "id": "7b_7Y_lwQmjq"
      },
      "source": [
        "Creation of Vocab and Embeddings"
      ]
    },
    {
      "cell_type": "code",
      "execution_count": null,
      "metadata": {
        "id": "LsnuzMBXQSuH"
      },
      "outputs": [],
      "source": [
        "def create_embeddings_and_encode(train_sentences, val_sentences, test_sentences, glove):\n",
        "    embedding_dim = len(list(glove.values())[0])\n",
        "    vocab = set()\n",
        "\n",
        "    vocab.update(['<UNK>', '<PAD>', '<s>', '</s>'])\n",
        "    for sentence in train_sentences:\n",
        "        for word in sentence:\n",
        "            if word in glove:\n",
        "                vocab.add(word)\n",
        "            else:\n",
        "                sentence[sentence.index(word)] = '<UNK>'\n",
        "\n",
        "    embeddings = np.zeros((len(vocab), embedding_dim))\n",
        "    word_to_idx = {word: idx for idx, word in enumerate(vocab)}\n",
        "\n",
        "    for word in vocab:\n",
        "        if word in glove:\n",
        "            embeddings[word_to_idx[word]] = glove[word]\n",
        "        else:\n",
        "            embeddings[word_to_idx[word]] = np.random.rand(embedding_dim)\n",
        "\n",
        "    def encode_sentences(sentences, word_to_idx):\n",
        "        encoded_sentences = []\n",
        "        for sentence in sentences:\n",
        "            encoded_sentence = [word_to_idx[word] if word in word_to_idx else word_to_idx['<UNK>'] for word in sentence]\n",
        "            encoded_sentences.append(encoded_sentence)\n",
        "        return encoded_sentences\n",
        "\n",
        "    encoded_train_sentences = encode_sentences(train_sentences, word_to_idx)\n",
        "    encoded_val_sentences = encode_sentences(val_sentences, word_to_idx)\n",
        "    encoded_test_sentences = encode_sentences(test_sentences, word_to_idx)\n",
        "\n",
        "    return torch.FloatTensor(embeddings), encoded_train_sentences, encoded_val_sentences, encoded_test_sentences, word_to_idx, list(vocab)"
      ]
    },
    {
      "cell_type": "markdown",
      "metadata": {
        "id": "l0nCyg9yQsgx"
      },
      "source": [
        "Dataset for training LSTM"
      ]
    },
    {
      "cell_type": "code",
      "execution_count": null,
      "metadata": {
        "id": "xFsumELsQpwI"
      },
      "outputs": [],
      "source": [
        "class LSTMDataset(Dataset):\n",
        "    def __init__(self, data):\n",
        "        self.data = data\n",
        "\n",
        "    def __len__(self):\n",
        "        return len(self.data)\n",
        "\n",
        "    def __getitem__(self, idx):\n",
        "        sentence = self.data[idx]\n",
        "        input_sentence = torch.tensor(sentence[:-1], dtype=torch.long)\n",
        "        target = torch.tensor(sentence[1:], dtype=torch.long)\n",
        "        return input_sentence, target"
      ]
    },
    {
      "cell_type": "code",
      "execution_count": null,
      "metadata": {
        "id": "YzFLOiS_Qu_h"
      },
      "outputs": [],
      "source": [
        "def collate_fn(batch, pad_idx):\n",
        "    input_sentences, targets = zip(*batch)\n",
        "    input_sentences = pad_sequence(input_sentences, batch_first=True, padding_value=pad_idx)\n",
        "    targets = pad_sequence(targets, batch_first=True, padding_value=pad_idx)\n",
        "    return input_sentences, targets"
      ]
    },
    {
      "cell_type": "markdown",
      "metadata": {
        "id": "sNQbPqexQzoT"
      },
      "source": [
        "LSTM"
      ]
    },
    {
      "cell_type": "code",
      "execution_count": null,
      "metadata": {
        "id": "X5NLZXQzQxNq"
      },
      "outputs": [],
      "source": [
        "class LSTM(nn.Module):\n",
        "    def __init__(self, embeddings, hidden_dim, dropout, num_layers=1):\n",
        "        super(LSTM, self).__init__()\n",
        "        # freeze embeddings\n",
        "        self.embeddings = nn.Embedding.from_pretrained(embeddings, freeze=True)\n",
        "        self.vocab_size = embeddings.shape[0]\n",
        "        self.embedding_dim = embeddings.shape[1]\n",
        "        self.hidden_dim = hidden_dim\n",
        "        self.num_layers = num_layers\n",
        "        self.dropout = dropout\n",
        "        self.lstm = nn.LSTM(input_size=self.embedding_dim, hidden_size=self.hidden_dim, num_layers=self.num_layers, dropout=self.dropout, batch_first=True)\n",
        "        self.fc1 = nn.Linear(self.hidden_dim, self.vocab_size)\n",
        "        self.dropout = nn.Dropout(self.dropout)\n",
        "\n",
        "    def forward(self, input_seq, hidden=None):\n",
        "        input_seq = self.embeddings(input_seq)\n",
        "\n",
        "        if hidden is None:\n",
        "            lstm_out, hidden = self.lstm(input_seq)\n",
        "        else:\n",
        "            lstm_out, hidden = self.lstm(input_seq, hidden)\n",
        "\n",
        "        return self.fc1(self.dropout(lstm_out)), hidden"
      ]
    },
    {
      "cell_type": "markdown",
      "metadata": {
        "id": "4MYj6fkgQ318"
      },
      "source": [
        "Model Testing"
      ]
    },
    {
      "cell_type": "code",
      "execution_count": null,
      "metadata": {
        "id": "dnBscpviQ1BF"
      },
      "outputs": [],
      "source": [
        "def test_model(model, val_loader, criterion, pad_idx):\n",
        "    model.eval()\n",
        "    total_loss = 0\n",
        "    hidden = None\n",
        "\n",
        "    with torch.no_grad():\n",
        "        for x, y in val_loader:\n",
        "            x, y = x.to(device), y.to(device)\n",
        "            batch_size = x.size(0)\n",
        "\n",
        "            if hidden is not None and batch_size != hidden[0].size(1):\n",
        "                hidden = None\n",
        "\n",
        "            output, hidden = model(x, hidden)\n",
        "            loss = criterion(output.view(-1, output.shape[2]), y.view(-1))\n",
        "            total_loss += loss.item()\n",
        "\n",
        "            if hidden is not None:\n",
        "                hidden = (hidden[0].detach(), hidden[1].detach())\n",
        "\n",
        "    avg_val_loss = total_loss / len(val_loader)\n",
        "    val_perplexity = torch.exp(torch.tensor(avg_val_loss))\n",
        "    return avg_val_loss, val_perplexity"
      ]
    },
    {
      "cell_type": "markdown",
      "metadata": {
        "id": "F3wjprwrQ-Kz"
      },
      "source": [
        "Train Model"
      ]
    },
    {
      "cell_type": "code",
      "execution_count": null,
      "metadata": {
        "id": "PDV1qBLFQ5xm"
      },
      "outputs": [],
      "source": [
        "def train_model(model, train_loader, val_loader, optimizer, criterion, num_epochs, patience=2, pad_idx=0, max_grad_norm=1.0):\n",
        "    model.to(device)\n",
        "    early_stopping_counter = 0\n",
        "    best_val_loss = float('inf')\n",
        "\n",
        "    for epoch in range(num_epochs):\n",
        "        model.train()\n",
        "        total_loss = 0\n",
        "        hidden = None\n",
        "\n",
        "        for x, y in tqdm(train_loader):\n",
        "            x, y = x.to(device), y.to(device)\n",
        "            batch_size = x.size(0)\n",
        "\n",
        "            if hidden is not None and batch_size != hidden[0].size(1):\n",
        "                hidden = None\n",
        "\n",
        "            optimizer.zero_grad()\n",
        "            output, hidden = model(x, hidden)\n",
        "            loss = criterion(output.view(-1, output.shape[2]), y.view(-1))\n",
        "            loss.backward()\n",
        "\n",
        "            # Apply gradient clipping here\n",
        "            torch.nn.utils.clip_grad_norm_(model.parameters(), max_norm=max_grad_norm)  # Apply gradient clipping\n",
        "\n",
        "            optimizer.step()\n",
        "\n",
        "            total_loss += loss.item()\n",
        "\n",
        "            if hidden is not None:\n",
        "                hidden = (hidden[0].detach(), hidden[1].detach())\n",
        "\n",
        "        avg_train_loss = total_loss / len(train_loader)\n",
        "        perplexity = torch.exp(torch.tensor(avg_train_loss))\n",
        "\n",
        "        print(f'Train Loss: {avg_train_loss:.4f}')\n",
        "        print(f'Train Perplexity: {perplexity:.4f}')\n",
        "\n",
        "        avg_val_loss, val_perplexity = test_model(model, val_loader, criterion, pad_idx)\n",
        "\n",
        "        print(f'Val Loss: {avg_val_loss:.4f}')\n",
        "        print(f'Val Perplexity: {val_perplexity:.4f}')\n",
        "\n",
        "        # check for early stopping\n",
        "        if avg_val_loss < best_val_loss:\n",
        "            best_val_loss = avg_val_loss\n",
        "            early_stopping_counter = 0\n",
        "            torch.save(model.state_dict(), '2024201073_LSTM_u.pt')\n",
        "        else:\n",
        "            early_stopping_counter += 1\n",
        "            if early_stopping_counter >= patience:\n",
        "                print(f'Early stopping at epoch {epoch + 1}')\n",
        "                break\n",
        "\n",
        "    return model\n"
      ]
    },
    {
      "cell_type": "markdown",
      "metadata": {
        "id": "AjwY_ffRRE28"
      },
      "source": [
        "Save perplexities in files"
      ]
    },
    {
      "cell_type": "code",
      "execution_count": null,
      "metadata": {
        "id": "BrQobV8MQ_yl"
      },
      "outputs": [],
      "source": [
        "def save_perplexities_lstm(model, sentences, criterion, filename, idx_to_word):\n",
        "    model.eval()\n",
        "    total_loss = 0\n",
        "    all_sentences = []\n",
        "    perplexity_scores = []\n",
        "\n",
        "    with torch.no_grad():\n",
        "        for sentence in sentences:\n",
        "            sentence_loss = 0\n",
        "            sentence_length = 0\n",
        "            input_indices = sentence[:-1]\n",
        "            target_indices = sentence[1:]\n",
        "\n",
        "            input_tensor = torch.tensor(input_indices, dtype=torch.long).unsqueeze(0).to(device)\n",
        "            targets = torch.tensor(target_indices, dtype=torch.long).to(device)\n",
        "            outputs, _ = model(input_tensor)\n",
        "\n",
        "            for i in range(outputs.shape[1]):\n",
        "                output = outputs[0, i]\n",
        "                target_word = targets[i]\n",
        "\n",
        "                loss = criterion(output.unsqueeze(0), target_word.unsqueeze(0))\n",
        "                sentence_loss += loss.item()\n",
        "                sentence_length += 1\n",
        "\n",
        "            avg_loss_per_sentence = sentence_loss / sentence_length\n",
        "            sentence_perplexity = torch.exp(torch.tensor(avg_loss_per_sentence)).item()\n",
        "            perplexity_scores.append(sentence_perplexity)\n",
        "\n",
        "            sentence_words = [idx_to_word[idx] for idx in sentence]\n",
        "            full_sentence = \" \".join(sentence_words)\n",
        "            all_sentences.append(full_sentence)\n",
        "\n",
        "        avg_perplexity = sum(perplexity_scores) / len(perplexity_scores)\n",
        "\n",
        "    with open(filename, 'w') as f:\n",
        "        for i, sentence in enumerate(all_sentences):\n",
        "            f.write(f\"{sentence}\\t{perplexity_scores[i]:.4f}\\n\")\n",
        "\n",
        "        f.write(f\"Average\\t{avg_perplexity:.4f}\\n\")\n",
        "\n",
        "    return avg_perplexity"
      ]
    },
    {
      "cell_type": "code",
      "execution_count": null,
      "metadata": {
        "id": "T0UKmRVeRI_y"
      },
      "outputs": [],
      "source": [
        "def save_model(model, path):\n",
        "    torch.save(model.state_dict(), path)\n",
        "    print(f\"Model saved to {path}\")"
      ]
    },
    {
      "cell_type": "markdown",
      "metadata": {
        "id": "HK6rm7flRN-q"
      },
      "source": [
        "Running the model"
      ]
    },
    {
      "cell_type": "code",
      "execution_count": null,
      "metadata": {
        "colab": {
          "base_uri": "https://localhost:8080/"
        },
        "id": "mNobwqyORLbG",
        "outputId": "906a5f96-d03c-4543-aa38-ab1d1aae5514"
      },
      "outputs": [
        {
          "name": "stdout",
          "output_type": "stream",
          "text": [
            "cuda\n"
          ]
        }
      ],
      "source": [
        "device = torch.device(\"cuda\" if torch.cuda.is_available() else \"cpu\")\n",
        "print(device)"
      ]
    },
    {
      "cell_type": "code",
      "execution_count": null,
      "metadata": {
        "colab": {
          "base_uri": "https://localhost:8080/",
          "height": 73
        },
        "id": "Z9lQvTbERhS-",
        "outputId": "097e7caa-c19a-448e-9628-8a8a545053e4"
      },
      "outputs": [
        {
          "data": {
            "text/html": [
              "\n",
              "     <input type=\"file\" id=\"files-4d0d8dce-5a23-4f3b-99d5-6272af0e65bf\" name=\"files[]\" multiple disabled\n",
              "        style=\"border:none\" />\n",
              "     <output id=\"result-4d0d8dce-5a23-4f3b-99d5-6272af0e65bf\">\n",
              "      Upload widget is only available when the cell has been executed in the\n",
              "      current browser session. Please rerun this cell to enable.\n",
              "      </output>\n",
              "      <script>// Copyright 2017 Google LLC\n",
              "//\n",
              "// Licensed under the Apache License, Version 2.0 (the \"License\");\n",
              "// you may not use this file except in compliance with the License.\n",
              "// You may obtain a copy of the License at\n",
              "//\n",
              "//      http://www.apache.org/licenses/LICENSE-2.0\n",
              "//\n",
              "// Unless required by applicable law or agreed to in writing, software\n",
              "// distributed under the License is distributed on an \"AS IS\" BASIS,\n",
              "// WITHOUT WARRANTIES OR CONDITIONS OF ANY KIND, either express or implied.\n",
              "// See the License for the specific language governing permissions and\n",
              "// limitations under the License.\n",
              "\n",
              "/**\n",
              " * @fileoverview Helpers for google.colab Python module.\n",
              " */\n",
              "(function(scope) {\n",
              "function span(text, styleAttributes = {}) {\n",
              "  const element = document.createElement('span');\n",
              "  element.textContent = text;\n",
              "  for (const key of Object.keys(styleAttributes)) {\n",
              "    element.style[key] = styleAttributes[key];\n",
              "  }\n",
              "  return element;\n",
              "}\n",
              "\n",
              "// Max number of bytes which will be uploaded at a time.\n",
              "const MAX_PAYLOAD_SIZE = 100 * 1024;\n",
              "\n",
              "function _uploadFiles(inputId, outputId) {\n",
              "  const steps = uploadFilesStep(inputId, outputId);\n",
              "  const outputElement = document.getElementById(outputId);\n",
              "  // Cache steps on the outputElement to make it available for the next call\n",
              "  // to uploadFilesContinue from Python.\n",
              "  outputElement.steps = steps;\n",
              "\n",
              "  return _uploadFilesContinue(outputId);\n",
              "}\n",
              "\n",
              "// This is roughly an async generator (not supported in the browser yet),\n",
              "// where there are multiple asynchronous steps and the Python side is going\n",
              "// to poll for completion of each step.\n",
              "// This uses a Promise to block the python side on completion of each step,\n",
              "// then passes the result of the previous step as the input to the next step.\n",
              "function _uploadFilesContinue(outputId) {\n",
              "  const outputElement = document.getElementById(outputId);\n",
              "  const steps = outputElement.steps;\n",
              "\n",
              "  const next = steps.next(outputElement.lastPromiseValue);\n",
              "  return Promise.resolve(next.value.promise).then((value) => {\n",
              "    // Cache the last promise value to make it available to the next\n",
              "    // step of the generator.\n",
              "    outputElement.lastPromiseValue = value;\n",
              "    return next.value.response;\n",
              "  });\n",
              "}\n",
              "\n",
              "/**\n",
              " * Generator function which is called between each async step of the upload\n",
              " * process.\n",
              " * @param {string} inputId Element ID of the input file picker element.\n",
              " * @param {string} outputId Element ID of the output display.\n",
              " * @return {!Iterable<!Object>} Iterable of next steps.\n",
              " */\n",
              "function* uploadFilesStep(inputId, outputId) {\n",
              "  const inputElement = document.getElementById(inputId);\n",
              "  inputElement.disabled = false;\n",
              "\n",
              "  const outputElement = document.getElementById(outputId);\n",
              "  outputElement.innerHTML = '';\n",
              "\n",
              "  const pickedPromise = new Promise((resolve) => {\n",
              "    inputElement.addEventListener('change', (e) => {\n",
              "      resolve(e.target.files);\n",
              "    });\n",
              "  });\n",
              "\n",
              "  const cancel = document.createElement('button');\n",
              "  inputElement.parentElement.appendChild(cancel);\n",
              "  cancel.textContent = 'Cancel upload';\n",
              "  const cancelPromise = new Promise((resolve) => {\n",
              "    cancel.onclick = () => {\n",
              "      resolve(null);\n",
              "    };\n",
              "  });\n",
              "\n",
              "  // Wait for the user to pick the files.\n",
              "  const files = yield {\n",
              "    promise: Promise.race([pickedPromise, cancelPromise]),\n",
              "    response: {\n",
              "      action: 'starting',\n",
              "    }\n",
              "  };\n",
              "\n",
              "  cancel.remove();\n",
              "\n",
              "  // Disable the input element since further picks are not allowed.\n",
              "  inputElement.disabled = true;\n",
              "\n",
              "  if (!files) {\n",
              "    return {\n",
              "      response: {\n",
              "        action: 'complete',\n",
              "      }\n",
              "    };\n",
              "  }\n",
              "\n",
              "  for (const file of files) {\n",
              "    const li = document.createElement('li');\n",
              "    li.append(span(file.name, {fontWeight: 'bold'}));\n",
              "    li.append(span(\n",
              "        `(${file.type || 'n/a'}) - ${file.size} bytes, ` +\n",
              "        `last modified: ${\n",
              "            file.lastModifiedDate ? file.lastModifiedDate.toLocaleDateString() :\n",
              "                                    'n/a'} - `));\n",
              "    const percent = span('0% done');\n",
              "    li.appendChild(percent);\n",
              "\n",
              "    outputElement.appendChild(li);\n",
              "\n",
              "    const fileDataPromise = new Promise((resolve) => {\n",
              "      const reader = new FileReader();\n",
              "      reader.onload = (e) => {\n",
              "        resolve(e.target.result);\n",
              "      };\n",
              "      reader.readAsArrayBuffer(file);\n",
              "    });\n",
              "    // Wait for the data to be ready.\n",
              "    let fileData = yield {\n",
              "      promise: fileDataPromise,\n",
              "      response: {\n",
              "        action: 'continue',\n",
              "      }\n",
              "    };\n",
              "\n",
              "    // Use a chunked sending to avoid message size limits. See b/62115660.\n",
              "    let position = 0;\n",
              "    do {\n",
              "      const length = Math.min(fileData.byteLength - position, MAX_PAYLOAD_SIZE);\n",
              "      const chunk = new Uint8Array(fileData, position, length);\n",
              "      position += length;\n",
              "\n",
              "      const base64 = btoa(String.fromCharCode.apply(null, chunk));\n",
              "      yield {\n",
              "        response: {\n",
              "          action: 'append',\n",
              "          file: file.name,\n",
              "          data: base64,\n",
              "        },\n",
              "      };\n",
              "\n",
              "      let percentDone = fileData.byteLength === 0 ?\n",
              "          100 :\n",
              "          Math.round((position / fileData.byteLength) * 100);\n",
              "      percent.textContent = `${percentDone}% done`;\n",
              "\n",
              "    } while (position < fileData.byteLength);\n",
              "  }\n",
              "\n",
              "  // All done.\n",
              "  yield {\n",
              "    response: {\n",
              "      action: 'complete',\n",
              "    }\n",
              "  };\n",
              "}\n",
              "\n",
              "scope.google = scope.google || {};\n",
              "scope.google.colab = scope.google.colab || {};\n",
              "scope.google.colab._files = {\n",
              "  _uploadFiles,\n",
              "  _uploadFilesContinue,\n",
              "};\n",
              "})(self);\n",
              "</script> "
            ],
            "text/plain": [
              "<IPython.core.display.HTML object>"
            ]
          },
          "metadata": {},
          "output_type": "display_data"
        },
        {
          "name": "stdout",
          "output_type": "stream",
          "text": [
            "Saving Ulysses - James Joyce.txt to Ulysses - James Joyce.txt\n"
          ]
        }
      ],
      "source": [
        "from google.colab import files\n",
        "uploaded = files.upload()"
      ]
    },
    {
      "cell_type": "code",
      "execution_count": null,
      "metadata": {
        "colab": {
          "base_uri": "https://localhost:8080/"
        },
        "id": "3cSnIt_KRQUS",
        "outputId": "45624745-a53c-463b-b8fb-8a3b6c4aeb85"
      },
      "outputs": [
        {
          "name": "stdout",
          "output_type": "stream",
          "text": [
            "Length of sentences: 22226\n",
            "Train size: 17780\n",
            "Validation size: 3333\n",
            "Test size: 1113\n"
          ]
        }
      ],
      "source": [
        "with open('/content/Ulysses - James Joyce.txt', 'r') as f:\n",
        "    corpus = f.read()\n",
        "\n",
        "corpus = preprocess(corpus)\n",
        "\n",
        "sentences, word_sentences = tokenize(corpus, 2)\n",
        "\n",
        "train_sentences, val_sentences, test_sentences = train_val_test_split(word_sentences)\n",
        "\n",
        "print(\"Train size:\", len(train_sentences))\n",
        "print(\"Validation size:\", len(val_sentences))\n",
        "print(\"Test size:\", len(test_sentences))"
      ]
    },
    {
      "cell_type": "code",
      "execution_count": null,
      "metadata": {
        "colab": {
          "base_uri": "https://localhost:8080/"
        },
        "id": "HXJ4EKURSTpf",
        "outputId": "f1cfb48c-e497-4f42-b100-0b383528c470"
      },
      "outputs": [
        {
          "name": "stdout",
          "output_type": "stream",
          "text": [
            "--2025-02-18 05:54:08--  http://nlp.stanford.edu/data/glove.6B.zip\n",
            "Resolving nlp.stanford.edu (nlp.stanford.edu)... 171.64.67.140\n",
            "Connecting to nlp.stanford.edu (nlp.stanford.edu)|171.64.67.140|:80... connected.\n",
            "HTTP request sent, awaiting response... 302 Found\n",
            "Location: https://nlp.stanford.edu/data/glove.6B.zip [following]\n",
            "--2025-02-18 05:54:08--  https://nlp.stanford.edu/data/glove.6B.zip\n",
            "Connecting to nlp.stanford.edu (nlp.stanford.edu)|171.64.67.140|:443... connected.\n",
            "HTTP request sent, awaiting response... 301 Moved Permanently\n",
            "Location: https://downloads.cs.stanford.edu/nlp/data/glove.6B.zip [following]\n",
            "--2025-02-18 05:54:08--  https://downloads.cs.stanford.edu/nlp/data/glove.6B.zip\n",
            "Resolving downloads.cs.stanford.edu (downloads.cs.stanford.edu)... 171.64.64.22\n",
            "Connecting to downloads.cs.stanford.edu (downloads.cs.stanford.edu)|171.64.64.22|:443... connected.\n",
            "HTTP request sent, awaiting response... 200 OK\n",
            "Length: 862182613 (822M) [application/zip]\n",
            "Saving to: ‘glove.6B.zip’\n",
            "\n",
            "glove.6B.zip        100%[===================>] 822.24M  5.08MB/s    in 2m 39s  \n",
            "\n",
            "2025-02-18 05:56:47 (5.16 MB/s) - ‘glove.6B.zip’ saved [862182613/862182613]\n",
            "\n",
            "Archive:  glove.6B.zip\n",
            "  inflating: glove.6B.50d.txt        \n",
            "  inflating: glove.6B.100d.txt       \n",
            "  inflating: glove.6B.200d.txt       \n",
            "  inflating: glove.6B.300d.txt       \n"
          ]
        }
      ],
      "source": [
        "!wget http://nlp.stanford.edu/data/glove.6B.zip\n",
        "!unzip glove.6B.zip"
      ]
    },
    {
      "cell_type": "code",
      "execution_count": null,
      "metadata": {
        "id": "A1uqbkO5RxP0"
      },
      "outputs": [],
      "source": [
        "glove = create_glove_embeddings('/content/glove.6B.100d.txt')\n",
        "\n",
        "embeddings, encoded_train, encoded_val, encoded_test, word_to_idx, vocab = create_embeddings_and_encode(train_sentences, val_sentences, test_sentences, glove)"
      ]
    },
    {
      "cell_type": "code",
      "execution_count": null,
      "metadata": {
        "colab": {
          "base_uri": "https://localhost:8080/"
        },
        "id": "pykYX8mPSRUZ",
        "outputId": "f94c5703-6891-45bb-98f4-47a173f08b94"
      },
      "outputs": [
        {
          "name": "stdout",
          "output_type": "stream",
          "text": [
            "Train dataset size: 17780\n",
            "Validation dataset size: 3333\n",
            "Test dataset size: 1113\n"
          ]
        }
      ],
      "source": [
        "# Step 1: Define the maximum sequence length\n",
        "MAX_SEQ_LENGTH = 20  # Adjust based on your memory constraints\n",
        "\n",
        "# Step 2: Truncate the sequences to the maximum length\n",
        "def truncate_sequences(sequences, max_length):\n",
        "    return [seq[:max_length] for seq in sequences]\n",
        "\n",
        "# Apply truncation to your data\n",
        "encoded_train = truncate_sequences(encoded_train, MAX_SEQ_LENGTH)\n",
        "encoded_val = truncate_sequences(encoded_val, MAX_SEQ_LENGTH)\n",
        "encoded_test = truncate_sequences(encoded_test, MAX_SEQ_LENGTH)\n",
        "\n",
        "# Step 3: Create the datasets using the truncated sequences\n",
        "pad_idx = word_to_idx['<PAD>']\n",
        "\n",
        "train_dataset = LSTMDataset(encoded_train)\n",
        "val_dataset = LSTMDataset(encoded_val)\n",
        "test_dataset = LSTMDataset(encoded_test)\n",
        "\n",
        "# Step 4: DataLoader remains the same but will now operate on truncated sequences\n",
        "train_loader = DataLoader(train_dataset, batch_size=64, collate_fn=lambda batch: collate_fn(batch, pad_idx), shuffle=True)\n",
        "val_loader = DataLoader(val_dataset, batch_size=64, collate_fn=lambda batch: collate_fn(batch, pad_idx), shuffle=True)\n",
        "test_loader = DataLoader(test_dataset, batch_size=64, collate_fn=lambda batch: collate_fn(batch, pad_idx), shuffle=True)\n",
        "\n",
        "# Print dataset sizes\n",
        "print(f'Train dataset size: {len(train_dataset)}')\n",
        "print(f'Validation dataset size: {len(val_dataset)}')\n",
        "print(f'Test dataset size: {len(test_dataset)}')\n"
      ]
    },
    {
      "cell_type": "code",
      "execution_count": null,
      "metadata": {
        "id": "jJuNdDyhSsMs"
      },
      "outputs": [],
      "source": [
        "learning_rate = 3e-4\n",
        "num_epochs = 40\n",
        "patience = 6\n",
        "model = LSTM(embeddings, 256, 0.7, 2)\n",
        "criterion = nn.CrossEntropyLoss(ignore_index=pad_idx)\n",
        "optimizer = optim.AdamW(model.parameters(), learning_rate, weight_decay=1e-6)\n",
        "scheduler = torch.optim.lr_scheduler.ReduceLROnPlateau(optimizer, mode='min', factor=0.2, patience=3)\n"
      ]
    },
    {
      "cell_type": "code",
      "execution_count": null,
      "metadata": {
        "colab": {
          "base_uri": "https://localhost:8080/"
        },
        "id": "G12qWUUtS0yu",
        "outputId": "c3d9eff5-16a1-4ff4-c576-45cc796b0f23"
      },
      "outputs": [
        {
          "name": "stderr",
          "output_type": "stream",
          "text": [
            "100%|██████████| 278/278 [00:05<00:00, 48.30it/s]\n"
          ]
        },
        {
          "name": "stdout",
          "output_type": "stream",
          "text": [
            "Train Loss: 7.2555\n",
            "Train Perplexity: 1415.8820\n",
            "Val Loss: 6.3935\n",
            "Val Perplexity: 597.9263\n"
          ]
        },
        {
          "name": "stderr",
          "output_type": "stream",
          "text": [
            "100%|██████████| 278/278 [00:05<00:00, 49.51it/s]\n"
          ]
        },
        {
          "name": "stdout",
          "output_type": "stream",
          "text": [
            "Train Loss: 6.7117\n",
            "Train Perplexity: 821.9260\n",
            "Val Loss: 6.3072\n",
            "Val Perplexity: 548.4813\n"
          ]
        },
        {
          "name": "stderr",
          "output_type": "stream",
          "text": [
            "100%|██████████| 278/278 [00:05<00:00, 48.67it/s]\n"
          ]
        },
        {
          "name": "stdout",
          "output_type": "stream",
          "text": [
            "Train Loss: 6.6085\n",
            "Train Perplexity: 741.3588\n",
            "Val Loss: 6.2185\n",
            "Val Perplexity: 501.9615\n"
          ]
        },
        {
          "name": "stderr",
          "output_type": "stream",
          "text": [
            "100%|██████████| 278/278 [00:05<00:00, 49.57it/s]\n"
          ]
        },
        {
          "name": "stdout",
          "output_type": "stream",
          "text": [
            "Train Loss: 6.5345\n",
            "Train Perplexity: 688.5223\n",
            "Val Loss: 6.1406\n",
            "Val Perplexity: 464.3492\n"
          ]
        },
        {
          "name": "stderr",
          "output_type": "stream",
          "text": [
            "100%|██████████| 278/278 [00:05<00:00, 48.59it/s]\n"
          ]
        },
        {
          "name": "stdout",
          "output_type": "stream",
          "text": [
            "Train Loss: 6.4694\n",
            "Train Perplexity: 645.1131\n",
            "Val Loss: 6.0983\n",
            "Val Perplexity: 445.0926\n"
          ]
        },
        {
          "name": "stderr",
          "output_type": "stream",
          "text": [
            "100%|██████████| 278/278 [00:05<00:00, 48.74it/s]\n"
          ]
        },
        {
          "name": "stdout",
          "output_type": "stream",
          "text": [
            "Train Loss: 6.4096\n",
            "Train Perplexity: 607.6559\n",
            "Val Loss: 6.0325\n",
            "Val Perplexity: 416.7523\n"
          ]
        },
        {
          "name": "stderr",
          "output_type": "stream",
          "text": [
            "100%|██████████| 278/278 [00:05<00:00, 48.17it/s]\n"
          ]
        },
        {
          "name": "stdout",
          "output_type": "stream",
          "text": [
            "Train Loss: 6.3524\n",
            "Train Perplexity: 573.8439\n",
            "Val Loss: 5.9937\n",
            "Val Perplexity: 400.8958\n"
          ]
        },
        {
          "name": "stderr",
          "output_type": "stream",
          "text": [
            "100%|██████████| 278/278 [00:05<00:00, 49.41it/s]\n"
          ]
        },
        {
          "name": "stdout",
          "output_type": "stream",
          "text": [
            "Train Loss: 6.2991\n",
            "Train Perplexity: 544.0565\n",
            "Val Loss: 5.9418\n",
            "Val Perplexity: 380.6158\n"
          ]
        },
        {
          "name": "stderr",
          "output_type": "stream",
          "text": [
            "100%|██████████| 278/278 [00:05<00:00, 48.81it/s]\n"
          ]
        },
        {
          "name": "stdout",
          "output_type": "stream",
          "text": [
            "Train Loss: 6.2502\n",
            "Train Perplexity: 518.1146\n",
            "Val Loss: 5.8973\n",
            "Val Perplexity: 364.0689\n"
          ]
        },
        {
          "name": "stderr",
          "output_type": "stream",
          "text": [
            "100%|██████████| 278/278 [00:05<00:00, 49.26it/s]\n"
          ]
        },
        {
          "name": "stdout",
          "output_type": "stream",
          "text": [
            "Train Loss: 6.2063\n",
            "Train Perplexity: 495.8718\n",
            "Val Loss: 5.8595\n",
            "Val Perplexity: 350.5460\n"
          ]
        },
        {
          "name": "stderr",
          "output_type": "stream",
          "text": [
            "100%|██████████| 278/278 [00:05<00:00, 49.26it/s]\n"
          ]
        },
        {
          "name": "stdout",
          "output_type": "stream",
          "text": [
            "Train Loss: 6.1660\n",
            "Train Perplexity: 476.2798\n",
            "Val Loss: 5.8497\n",
            "Val Perplexity: 347.1448\n"
          ]
        },
        {
          "name": "stderr",
          "output_type": "stream",
          "text": [
            "100%|██████████| 278/278 [00:05<00:00, 48.91it/s]\n"
          ]
        },
        {
          "name": "stdout",
          "output_type": "stream",
          "text": [
            "Train Loss: 6.1307\n",
            "Train Perplexity: 459.7787\n",
            "Val Loss: 5.8115\n",
            "Val Perplexity: 334.1357\n"
          ]
        },
        {
          "name": "stderr",
          "output_type": "stream",
          "text": [
            "100%|██████████| 278/278 [00:05<00:00, 49.36it/s]\n"
          ]
        },
        {
          "name": "stdout",
          "output_type": "stream",
          "text": [
            "Train Loss: 6.0958\n",
            "Train Perplexity: 443.9982\n",
            "Val Loss: 5.8068\n",
            "Val Perplexity: 332.5602\n"
          ]
        },
        {
          "name": "stderr",
          "output_type": "stream",
          "text": [
            "100%|██████████| 278/278 [00:05<00:00, 48.82it/s]\n"
          ]
        },
        {
          "name": "stdout",
          "output_type": "stream",
          "text": [
            "Train Loss: 6.0649\n",
            "Train Perplexity: 430.4660\n",
            "Val Loss: 5.7740\n",
            "Val Perplexity: 321.8265\n"
          ]
        },
        {
          "name": "stderr",
          "output_type": "stream",
          "text": [
            "100%|██████████| 278/278 [00:05<00:00, 49.39it/s]\n"
          ]
        },
        {
          "name": "stdout",
          "output_type": "stream",
          "text": [
            "Train Loss: 6.0333\n",
            "Train Perplexity: 417.1023\n",
            "Val Loss: 5.7668\n",
            "Val Perplexity: 319.4987\n"
          ]
        },
        {
          "name": "stderr",
          "output_type": "stream",
          "text": [
            "100%|██████████| 278/278 [00:05<00:00, 49.10it/s]\n"
          ]
        },
        {
          "name": "stdout",
          "output_type": "stream",
          "text": [
            "Train Loss: 6.0064\n",
            "Train Perplexity: 405.9999\n",
            "Val Loss: 5.7402\n",
            "Val Perplexity: 311.1207\n"
          ]
        },
        {
          "name": "stderr",
          "output_type": "stream",
          "text": [
            "100%|██████████| 278/278 [00:05<00:00, 49.43it/s]\n"
          ]
        },
        {
          "name": "stdout",
          "output_type": "stream",
          "text": [
            "Train Loss: 5.9774\n",
            "Train Perplexity: 394.4090\n",
            "Val Loss: 5.7262\n",
            "Val Perplexity: 306.7945\n"
          ]
        },
        {
          "name": "stderr",
          "output_type": "stream",
          "text": [
            "100%|██████████| 278/278 [00:05<00:00, 48.69it/s]\n"
          ]
        },
        {
          "name": "stdout",
          "output_type": "stream",
          "text": [
            "Train Loss: 5.9551\n",
            "Train Perplexity: 385.7310\n",
            "Val Loss: 5.7329\n",
            "Val Perplexity: 308.8727\n"
          ]
        },
        {
          "name": "stderr",
          "output_type": "stream",
          "text": [
            "100%|██████████| 278/278 [00:05<00:00, 49.49it/s]\n"
          ]
        },
        {
          "name": "stdout",
          "output_type": "stream",
          "text": [
            "Train Loss: 5.9280\n",
            "Train Perplexity: 375.4166\n",
            "Val Loss: 5.7122\n",
            "Val Perplexity: 302.5428\n"
          ]
        },
        {
          "name": "stderr",
          "output_type": "stream",
          "text": [
            "100%|██████████| 278/278 [00:05<00:00, 48.65it/s]\n"
          ]
        },
        {
          "name": "stdout",
          "output_type": "stream",
          "text": [
            "Train Loss: 5.9070\n",
            "Train Perplexity: 367.6172\n",
            "Val Loss: 5.7048\n",
            "Val Perplexity: 300.3163\n"
          ]
        },
        {
          "name": "stderr",
          "output_type": "stream",
          "text": [
            "100%|██████████| 278/278 [00:05<00:00, 49.41it/s]\n"
          ]
        },
        {
          "name": "stdout",
          "output_type": "stream",
          "text": [
            "Train Loss: 5.8796\n",
            "Train Perplexity: 357.6651\n",
            "Val Loss: 5.6953\n",
            "Val Perplexity: 297.4626\n"
          ]
        },
        {
          "name": "stderr",
          "output_type": "stream",
          "text": [
            "100%|██████████| 278/278 [00:05<00:00, 48.82it/s]\n"
          ]
        },
        {
          "name": "stdout",
          "output_type": "stream",
          "text": [
            "Train Loss: 5.8605\n",
            "Train Perplexity: 350.8948\n",
            "Val Loss: 5.6731\n",
            "Val Perplexity: 290.9449\n"
          ]
        },
        {
          "name": "stderr",
          "output_type": "stream",
          "text": [
            "100%|██████████| 278/278 [00:05<00:00, 49.28it/s]\n"
          ]
        },
        {
          "name": "stdout",
          "output_type": "stream",
          "text": [
            "Train Loss: 5.8334\n",
            "Train Perplexity: 341.5160\n",
            "Val Loss: 5.6806\n",
            "Val Perplexity: 293.1217\n"
          ]
        },
        {
          "name": "stderr",
          "output_type": "stream",
          "text": [
            "100%|██████████| 278/278 [00:05<00:00, 49.14it/s]\n"
          ]
        },
        {
          "name": "stdout",
          "output_type": "stream",
          "text": [
            "Train Loss: 5.8117\n",
            "Train Perplexity: 334.1987\n",
            "Val Loss: 5.6687\n",
            "Val Perplexity: 289.6563\n"
          ]
        },
        {
          "name": "stderr",
          "output_type": "stream",
          "text": [
            "100%|██████████| 278/278 [00:05<00:00, 48.87it/s]\n"
          ]
        },
        {
          "name": "stdout",
          "output_type": "stream",
          "text": [
            "Train Loss: 5.7910\n",
            "Train Perplexity: 327.3542\n",
            "Val Loss: 5.6572\n",
            "Val Perplexity: 286.3390\n"
          ]
        },
        {
          "name": "stderr",
          "output_type": "stream",
          "text": [
            "100%|██████████| 278/278 [00:05<00:00, 49.40it/s]\n"
          ]
        },
        {
          "name": "stdout",
          "output_type": "stream",
          "text": [
            "Train Loss: 5.7718\n",
            "Train Perplexity: 321.1241\n",
            "Val Loss: 5.6628\n",
            "Val Perplexity: 287.9491\n"
          ]
        },
        {
          "name": "stderr",
          "output_type": "stream",
          "text": [
            "100%|██████████| 278/278 [00:05<00:00, 48.70it/s]\n"
          ]
        },
        {
          "name": "stdout",
          "output_type": "stream",
          "text": [
            "Train Loss: 5.7551\n",
            "Train Perplexity: 315.7995\n",
            "Val Loss: 5.6678\n",
            "Val Perplexity: 289.3861\n"
          ]
        },
        {
          "name": "stderr",
          "output_type": "stream",
          "text": [
            "100%|██████████| 278/278 [00:05<00:00, 49.52it/s]\n"
          ]
        },
        {
          "name": "stdout",
          "output_type": "stream",
          "text": [
            "Train Loss: 5.7363\n",
            "Train Perplexity: 309.9171\n",
            "Val Loss: 5.6695\n",
            "Val Perplexity: 289.9003\n"
          ]
        },
        {
          "name": "stderr",
          "output_type": "stream",
          "text": [
            "100%|██████████| 278/278 [00:05<00:00, 48.43it/s]\n"
          ]
        },
        {
          "name": "stdout",
          "output_type": "stream",
          "text": [
            "Train Loss: 5.7145\n",
            "Train Perplexity: 303.2189\n",
            "Val Loss: 5.6284\n",
            "Val Perplexity: 278.2160\n"
          ]
        },
        {
          "name": "stderr",
          "output_type": "stream",
          "text": [
            "100%|██████████| 278/278 [00:05<00:00, 49.41it/s]\n"
          ]
        },
        {
          "name": "stdout",
          "output_type": "stream",
          "text": [
            "Train Loss: 5.6942\n",
            "Train Perplexity: 297.1455\n",
            "Val Loss: 5.6452\n",
            "Val Perplexity: 282.9299\n"
          ]
        },
        {
          "name": "stderr",
          "output_type": "stream",
          "text": [
            "100%|██████████| 278/278 [00:05<00:00, 48.41it/s]\n"
          ]
        },
        {
          "name": "stdout",
          "output_type": "stream",
          "text": [
            "Train Loss: 5.6745\n",
            "Train Perplexity: 291.3364\n",
            "Val Loss: 5.6599\n",
            "Val Perplexity: 287.1203\n"
          ]
        },
        {
          "name": "stderr",
          "output_type": "stream",
          "text": [
            "100%|██████████| 278/278 [00:05<00:00, 49.42it/s]\n"
          ]
        },
        {
          "name": "stdout",
          "output_type": "stream",
          "text": [
            "Train Loss: 5.6568\n",
            "Train Perplexity: 286.2261\n",
            "Val Loss: 5.6263\n",
            "Val Perplexity: 277.6201\n"
          ]
        },
        {
          "name": "stderr",
          "output_type": "stream",
          "text": [
            "100%|██████████| 278/278 [00:05<00:00, 48.70it/s]\n"
          ]
        },
        {
          "name": "stdout",
          "output_type": "stream",
          "text": [
            "Train Loss: 5.6407\n",
            "Train Perplexity: 281.6699\n",
            "Val Loss: 5.6428\n",
            "Val Perplexity: 282.2606\n"
          ]
        },
        {
          "name": "stderr",
          "output_type": "stream",
          "text": [
            "100%|██████████| 278/278 [00:05<00:00, 49.41it/s]\n"
          ]
        },
        {
          "name": "stdout",
          "output_type": "stream",
          "text": [
            "Train Loss: 5.6231\n",
            "Train Perplexity: 276.7411\n",
            "Val Loss: 5.6405\n",
            "Val Perplexity: 281.6035\n"
          ]
        },
        {
          "name": "stderr",
          "output_type": "stream",
          "text": [
            "100%|██████████| 278/278 [00:05<00:00, 49.03it/s]\n"
          ]
        },
        {
          "name": "stdout",
          "output_type": "stream",
          "text": [
            "Train Loss: 5.6057\n",
            "Train Perplexity: 271.9763\n",
            "Val Loss: 5.6440\n",
            "Val Perplexity: 282.5957\n"
          ]
        },
        {
          "name": "stderr",
          "output_type": "stream",
          "text": [
            "100%|██████████| 278/278 [00:05<00:00, 49.03it/s]\n"
          ]
        },
        {
          "name": "stdout",
          "output_type": "stream",
          "text": [
            "Train Loss: 5.5915\n",
            "Train Perplexity: 268.1312\n",
            "Val Loss: 5.6602\n",
            "Val Perplexity: 287.2141\n"
          ]
        },
        {
          "name": "stderr",
          "output_type": "stream",
          "text": [
            "100%|██████████| 278/278 [00:05<00:00, 49.28it/s]\n"
          ]
        },
        {
          "name": "stdout",
          "output_type": "stream",
          "text": [
            "Train Loss: 5.5739\n",
            "Train Perplexity: 263.4576\n",
            "Val Loss: 5.6596\n",
            "Val Perplexity: 287.0284\n"
          ]
        },
        {
          "name": "stderr",
          "output_type": "stream",
          "text": [
            "100%|██████████| 278/278 [00:05<00:00, 48.62it/s]\n"
          ]
        },
        {
          "name": "stdout",
          "output_type": "stream",
          "text": [
            "Train Loss: 5.5555\n",
            "Train Perplexity: 258.6489\n",
            "Val Loss: 5.6580\n",
            "Val Perplexity: 286.5733\n",
            "Early stopping at epoch 38\n"
          ]
        }
      ],
      "source": [
        "model = train_model(model, train_loader, val_loader, optimizer, criterion, num_epochs, patience,scheduler)"
      ]
    },
    {
      "cell_type": "markdown",
      "metadata": {
        "id": "iTf6P07VS6Hh"
      },
      "source": [
        "Perplexity Scores"
      ]
    },
    {
      "cell_type": "code",
      "execution_count": null,
      "metadata": {
        "colab": {
          "base_uri": "https://localhost:8080/"
        },
        "id": "WpGQp3m2SxTc",
        "outputId": "93defe44-ba2b-46f2-e634-fdf0159fac80"
      },
      "outputs": [
        {
          "name": "stdout",
          "output_type": "stream",
          "text": [
            "\n",
            "Train Loss: 5.207592650283154\n",
            "Train Perplexity: 182.65379333496094\n"
          ]
        }
      ],
      "source": [
        "loss, perplexity = test_model(model, train_loader, criterion, pad_idx)\n",
        "print(f'\\nTrain Loss: {loss}')\n",
        "print(f'Train Perplexity: {perplexity}')"
      ]
    },
    {
      "cell_type": "code",
      "execution_count": null,
      "metadata": {
        "colab": {
          "base_uri": "https://localhost:8080/"
        },
        "id": "1zMJ6vLWTAgh",
        "outputId": "ad2c1e0a-3c10-40b7-fba4-d691908ef8e8"
      },
      "outputs": [
        {
          "name": "stdout",
          "output_type": "stream",
          "text": [
            "\n",
            "Val Loss: 5.659929743352926\n",
            "Val Perplexity: 287.12847900390625\n"
          ]
        }
      ],
      "source": [
        "loss, perplexity = test_model(model, val_loader, criterion, pad_idx)\n",
        "print(f'\\nVal Loss: {loss}')\n",
        "print(f'Val Perplexity: {perplexity}')"
      ]
    },
    {
      "cell_type": "code",
      "execution_count": null,
      "metadata": {
        "colab": {
          "base_uri": "https://localhost:8080/"
        },
        "id": "BOw4TEHuTDVV",
        "outputId": "827125ea-29ea-4781-8fbe-f96ce5cab5ba"
      },
      "outputs": [
        {
          "name": "stdout",
          "output_type": "stream",
          "text": [
            "\n",
            "Test Loss: 5.7002099884880915\n",
            "Test Perplexity: 298.9302062988281\n"
          ]
        }
      ],
      "source": [
        "loss, perplexity = test_model(model, test_loader, criterion, pad_idx)\n",
        "print(f'\\nTest Loss: {loss}')\n",
        "print(f'Test Perplexity: {perplexity}')"
      ]
    },
    {
      "cell_type": "code",
      "execution_count": null,
      "metadata": {
        "colab": {
          "base_uri": "https://localhost:8080/"
        },
        "id": "M9PECkOvTFZs",
        "outputId": "c75da3f1-fe1a-4677-b039-064a59592eb1"
      },
      "outputs": [
        {
          "data": {
            "text/plain": [
              "641.7235306348226"
            ]
          },
          "execution_count": 28,
          "metadata": {},
          "output_type": "execute_result"
        }
      ],
      "source": [
        "save_perplexities_lstm(model, encoded_train, criterion, '2024201073_LSTM_u_train_perplexity.txt', vocab)\n",
        "save_perplexities_lstm(model, encoded_val, criterion, '2024201073_LSTM_u_val_perplexity.txt', vocab)\n",
        "save_perplexities_lstm(model, encoded_test, criterion, '2024201073_LSTM_u_test_perplexity.txt', vocab)"
      ]
    },
    {
      "cell_type": "code",
      "execution_count": null,
      "metadata": {
        "colab": {
          "base_uri": "https://localhost:8080/"
        },
        "id": "rG8EJMWjTaSS",
        "outputId": "2d6f463f-2c9c-4a44-e5ff-69cc47233d5a"
      },
      "outputs": [
        {
          "name": "stdout",
          "output_type": "stream",
          "text": [
            "Data saved successfully!\n"
          ]
        }
      ],
      "source": [
        "import pickle\n",
        "\n",
        "with open('data_store_LSTM_u.pkl', 'wb') as f:\n",
        "    pickle.dump({\n",
        "        'embeddings': embeddings,\n",
        "        'vocab': vocab,\n",
        "        'word_to_idx': word_to_idx,\n",
        "        'encoded_train': encoded_train,\n",
        "        'encoded_val': encoded_val,\n",
        "        'encoded_test': encoded_test,\n",
        "    }, f)\n",
        "\n",
        "print(\"Data saved successfully!\")"
      ]
    },
    {
      "cell_type": "code",
      "execution_count": null,
      "metadata": {
        "id": "6uXBV-HNHaLa"
      },
      "outputs": [],
      "source": []
    }
  ],
  "metadata": {
    "colab": {
      "provenance": []
    },
    "kernelspec": {
      "display_name": "Python 3",
      "name": "python3"
    },
    "language_info": {
      "name": "python"
    }
  },
  "nbformat": 4,
  "nbformat_minor": 0
}
