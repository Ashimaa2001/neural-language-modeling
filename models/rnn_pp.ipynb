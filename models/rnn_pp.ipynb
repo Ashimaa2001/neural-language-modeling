{
  "cells": [
    {
      "cell_type": "code",
      "execution_count": 1,
      "metadata": {
        "id": "U8oBtJZPciTH"
      },
      "outputs": [],
      "source": [
        "import torch\n",
        "from torch import nn, optim\n",
        "from torch.utils.data import DataLoader, Dataset\n",
        "import torch.nn.functional as F\n",
        "import numpy as np\n",
        "import re\n",
        "import nltk\n",
        "from nltk.tokenize import sent_tokenize, word_tokenize\n",
        "import random\n",
        "import time\n",
        "from sklearn.metrics import accuracy_score, precision_recall_fscore_support\n",
        "from tqdm import tqdm\n",
        "from torch.nn.utils.rnn import pad_sequence"
      ]
    },
    {
      "cell_type": "code",
      "execution_count": 2,
      "metadata": {
        "colab": {
          "base_uri": "https://localhost:8080/"
        },
        "id": "RUFLDWq4c0YU",
        "outputId": "566f0f19-81d3-4237-9862-4a36316426d8"
      },
      "outputs": [
        {
          "name": "stderr",
          "output_type": "stream",
          "text": [
            "[nltk_data] Downloading package punkt to /root/nltk_data...\n",
            "[nltk_data]   Unzipping tokenizers/punkt.zip.\n",
            "[nltk_data] Downloading package punkt_tab to /root/nltk_data...\n",
            "[nltk_data]   Unzipping tokenizers/punkt_tab.zip.\n"
          ]
        },
        {
          "data": {
            "text/plain": [
              "True"
            ]
          },
          "execution_count": 2,
          "metadata": {},
          "output_type": "execute_result"
        }
      ],
      "source": [
        "nltk.download('punkt')\n",
        "nltk.download('punkt_tab')"
      ]
    },
    {
      "cell_type": "markdown",
      "metadata": {
        "id": "hXP8L3PWc4sO"
      },
      "source": [
        "PreProcess"
      ]
    },
    {
      "cell_type": "code",
      "execution_count": 3,
      "metadata": {
        "id": "yHIHoSozc0-G"
      },
      "outputs": [],
      "source": [
        "device = torch.device(\"cuda\" if torch.cuda.is_available() else \"cpu\")\n",
        "def preprocess(data):\n",
        "    data = re.sub(r'\\n|\\s+', ' ', data) #newline and multiple spaces -> single space\n",
        "    data = re.sub(r'[’‘]', '\\'', data) #apostrophes\n",
        "    data = re.sub(r'[“”`\\' ]|[–—-]', ' ', data) #quotes and dashes\n",
        "    data = re.sub(r'(?<!\\w)([.!?])(?!\\w)', r' \\1 ', data) #dont remove punctuation\n",
        "    data = re.sub(r'[™•]', ' ', data) #remove other unwanted symbols\n",
        "    return data.strip() #strip extra spaces"
      ]
    },
    {
      "cell_type": "markdown",
      "metadata": {
        "id": "L3P-Fy7hc_O7"
      },
      "source": [
        "Tokenization"
      ]
    },
    {
      "cell_type": "code",
      "execution_count": 4,
      "metadata": {
        "id": "CjVhfyrtc73X"
      },
      "outputs": [],
      "source": [
        "def tokenize(data, min_length_sentences):\n",
        "    sentences = sent_tokenize(data)\n",
        "    sentences = [sentence for sentence in sentences if len(sentence.split()) >= min_length_sentences]\n",
        "\n",
        "    print(\"Length of sentences:\", len(sentences))\n",
        "\n",
        "    words_sentences = []\n",
        "\n",
        "    for sentence in sentences:\n",
        "        words = word_tokenize(sentence)\n",
        "        words = [word.lower() for word in words if word.lower() not in ['.', ',', '!', '?', ';', ':']]\n",
        "        words = ['<s>'] + words + ['</s>']\n",
        "        words_sentences.append(words)\n",
        "\n",
        "    return sentences, words_sentences"
      ]
    },
    {
      "cell_type": "markdown",
      "metadata": {
        "id": "4GrsNKPxdTSa"
      },
      "source": [
        "Data Prepartions"
      ]
    },
    {
      "cell_type": "code",
      "execution_count": 30,
      "metadata": {
        "id": "5buFkfImdUY_"
      },
      "outputs": [],
      "source": [
        "def train_val_test_split(sentences, train_ratio=0.6, val_ratio=0.2, seed=None, num_shuffles=1):\n",
        "    if seed is not None:\n",
        "        random.seed(seed)\n",
        "\n",
        "    for _ in range(num_shuffles):\n",
        "        random.shuffle(sentences)\n",
        "\n",
        "    total_sentences = len(sentences)\n",
        "\n",
        "    train_size = int(total_sentences * train_ratio)\n",
        "    val_size = int(total_sentences * val_ratio)\n",
        "    test_size = total_sentences - train_size - val_size\n",
        "\n",
        "    train_sentences = sentences[:train_size]\n",
        "    val_sentences = sentences[train_size:train_size + val_size]\n",
        "    test_sentences = sentences[train_size + val_size:]\n",
        "\n",
        "    return train_sentences, val_sentences, test_sentences"
      ]
    },
    {
      "cell_type": "markdown",
      "metadata": {
        "id": "Wv-k0-mLdYDH"
      },
      "source": [
        "Load Glove Embeddings"
      ]
    },
    {
      "cell_type": "code",
      "execution_count": 31,
      "metadata": {
        "id": "j7BLDaNkdZtV"
      },
      "outputs": [],
      "source": [
        "def create_glove_embeddings(glove_path):\n",
        "    glove = {}\n",
        "    embedding_dim = 0\n",
        "\n",
        "    with open(glove_path, 'r') as f:\n",
        "        for line in f:\n",
        "            values = line.split()\n",
        "            word = values[0]\n",
        "            vector = torch.tensor([float(val) for val in values[1:]])\n",
        "            glove[word] = vector\n",
        "            embedding_dim = len(values[1:])\n",
        "\n",
        "    glove['<UNK>'] = torch.mean(torch.stack(list(glove.values())), dim=0)\n",
        "    glove['<PAD>'] = torch.zeros(embedding_dim)\n",
        "    glove['<s>'] = torch.rand(embedding_dim)\n",
        "    glove['</s>'] = torch.rand(embedding_dim)\n",
        "\n",
        "    return glove"
      ]
    },
    {
      "cell_type": "markdown",
      "metadata": {
        "id": "C6I6VgocdfQs"
      },
      "source": [
        "Creation of vocab and embeddings"
      ]
    },
    {
      "cell_type": "code",
      "execution_count": 32,
      "metadata": {
        "id": "XM3bc6YudhtI"
      },
      "outputs": [],
      "source": [
        "def create_embeddings_and_encode(train_sentences, val_sentences, test_sentences, glove):\n",
        "    embedding_dim = len(list(glove.values())[0])\n",
        "    vocab = set()\n",
        "\n",
        "    vocab.update(['<UNK>', '<PAD>', '<s>', '</s>'])\n",
        "    for sentence in train_sentences:\n",
        "        for word in sentence:\n",
        "            if word in glove:\n",
        "                vocab.add(word)\n",
        "            else:\n",
        "                sentence[sentence.index(word)] = '<UNK>'\n",
        "\n",
        "    embeddings = np.zeros((len(vocab), embedding_dim))\n",
        "    word_to_idx = {word: idx for idx, word in enumerate(vocab)}\n",
        "\n",
        "    for word in vocab:\n",
        "        if word in glove:\n",
        "            embeddings[word_to_idx[word]] = glove[word]\n",
        "        else:\n",
        "            embeddings[word_to_idx[word]] = np.random.rand(embedding_dim)\n",
        "\n",
        "    def encode_sentences(sentences, word_to_idx):\n",
        "        encoded_sentences = []\n",
        "        for sentence in sentences:\n",
        "            encoded_sentence = [word_to_idx[word] if word in word_to_idx else word_to_idx['<UNK>'] for word in sentence]\n",
        "            encoded_sentences.append(encoded_sentence)\n",
        "        return encoded_sentences\n",
        "\n",
        "    encoded_train_sentences = encode_sentences(train_sentences, word_to_idx)\n",
        "    encoded_val_sentences = encode_sentences(val_sentences, word_to_idx)\n",
        "    encoded_test_sentences = encode_sentences(test_sentences, word_to_idx)\n",
        "\n",
        "    return torch.FloatTensor(embeddings), encoded_train_sentences, encoded_val_sentences, encoded_test_sentences, word_to_idx, list(vocab)"
      ]
    },
    {
      "cell_type": "markdown",
      "metadata": {
        "id": "_wEa2XbmdlHB"
      },
      "source": [
        "Daatset for trainig RNN"
      ]
    },
    {
      "cell_type": "code",
      "execution_count": 33,
      "metadata": {
        "id": "eBdkGr9TdoNB"
      },
      "outputs": [],
      "source": [
        "class RNNDataset(Dataset):\n",
        "    def __init__(self, data):\n",
        "        self.data = data\n",
        "\n",
        "    def __len__(self):\n",
        "        return len(self.data)\n",
        "\n",
        "    def __getitem__(self, idx):\n",
        "        sentence = self.data[idx]\n",
        "        input_sentence = torch.tensor(sentence[:-1], dtype=torch.long)\n",
        "        target = torch.tensor(sentence[1:], dtype=torch.long)\n",
        "        return input_sentence, target"
      ]
    },
    {
      "cell_type": "code",
      "execution_count": 34,
      "metadata": {
        "id": "9XSF1zmveW21"
      },
      "outputs": [],
      "source": [
        "def collate_fn(batch, pad_idx):\n",
        "    input_sentences, targets = zip(*batch)\n",
        "    input_sentences = pad_sequence(input_sentences, batch_first=True, padding_value=pad_idx)\n",
        "    targets = pad_sequence(targets, batch_first=True, padding_value=pad_idx)\n",
        "    return input_sentences, targets"
      ]
    },
    {
      "cell_type": "markdown",
      "metadata": {
        "id": "Nrq6AqqtefLM"
      },
      "source": [
        "RNN"
      ]
    },
    {
      "cell_type": "code",
      "execution_count": 35,
      "metadata": {
        "id": "PkiKT08vefr8"
      },
      "outputs": [],
      "source": [
        "class RNN(nn.Module):\n",
        "    def __init__(self, embeddings, hidden_dim, dropout, num_layers=1):\n",
        "        super(RNN, self).__init__()\n",
        "        # Freeze embeddings\n",
        "        self.embeddings = nn.Embedding.from_pretrained(embeddings, freeze=True)\n",
        "        self.vocab_size = embeddings.shape[0]\n",
        "        self.embedding_dim = embeddings.shape[1]\n",
        "        self.hidden_dim = hidden_dim\n",
        "        self.num_layers = num_layers\n",
        "        self.dropout_prob = dropout  # Avoid overwriting nn.Dropout later\n",
        "\n",
        "        # Define RNN layer\n",
        "        self.rnn = nn.RNN(input_size=self.embedding_dim, hidden_size=self.hidden_dim,\n",
        "                          num_layers=self.num_layers, dropout=self.dropout_prob, batch_first=True)\n",
        "\n",
        "        self.fc1 = nn.Linear(self.hidden_dim, self.vocab_size)\n",
        "        self.dropout = nn.Dropout(self.dropout_prob)  # Keep dropout for regularization\n",
        "\n",
        "    def forward(self, input_seq, hidden=None):\n",
        "        input_seq = self.embeddings(input_seq)  # Convert tokens to embeddings\n",
        "\n",
        "        if hidden is None:\n",
        "            rnn_out, hidden = self.rnn(input_seq)\n",
        "        else:\n",
        "            rnn_out, hidden = self.rnn(input_seq, hidden)\n",
        "\n",
        "        return self.fc1(self.dropout(rnn_out)), hidden"
      ]
    },
    {
      "cell_type": "markdown",
      "metadata": {
        "id": "xUxngsuBf3-x"
      },
      "source": [
        "Model Testing"
      ]
    },
    {
      "cell_type": "code",
      "execution_count": 36,
      "metadata": {
        "id": "MgSC11jPf5Ha"
      },
      "outputs": [],
      "source": [
        "def test_model(model, val_loader, criterion, pad_idx):\n",
        "    model.eval()\n",
        "    total_loss = 0\n",
        "    hidden = None\n",
        "\n",
        "    with torch.no_grad():\n",
        "        for x, y in val_loader:\n",
        "            x, y = x.to(device), y.to(device)\n",
        "            batch_size = x.size(0)\n",
        "\n",
        "            if hidden is not None and batch_size != hidden[0].size(1):\n",
        "                hidden = None\n",
        "\n",
        "            output, hidden = model(x, hidden)\n",
        "            loss = criterion(output.view(-1, output.shape[2]), y.view(-1))\n",
        "            total_loss += loss.item()\n",
        "\n",
        "            if hidden is not None:\n",
        "                hidden = (hidden[0].detach(), hidden[1].detach())\n",
        "\n",
        "    avg_val_loss = total_loss / len(val_loader)\n",
        "    val_perplexity = torch.exp(torch.tensor(avg_val_loss))\n",
        "    return avg_val_loss, val_perplexity"
      ]
    },
    {
      "cell_type": "markdown",
      "metadata": {
        "id": "8G_YscaJf-qE"
      },
      "source": [
        "Train Model"
      ]
    },
    {
      "cell_type": "code",
      "execution_count": 84,
      "metadata": {
        "id": "oAKZdyCXgAYk"
      },
      "outputs": [],
      "source": [
        "def train_model(model, train_loader, val_loader, optimizer, criterion, num_epochs, patience=2, pad_idx=0):\n",
        "    model.to(device)\n",
        "    early_stopping_counter = 0\n",
        "    best_val_loss = float('inf')\n",
        "\n",
        "    for epoch in range(num_epochs):\n",
        "        model.train()\n",
        "        total_loss = 0\n",
        "        hidden = None\n",
        "\n",
        "        for x, y in tqdm(train_loader):\n",
        "            x, y = x.to(device), y.to(device)\n",
        "            batch_size = x.size(0)\n",
        "\n",
        "            if hidden is not None and batch_size != hidden[0].size(1):\n",
        "                hidden = None\n",
        "\n",
        "            optimizer.zero_grad()\n",
        "            output, hidden = model(x, hidden)\n",
        "            loss = criterion(output.view(-1, output.shape[2]), y.view(-1))\n",
        "            loss.backward()\n",
        "            optimizer.step()\n",
        "\n",
        "            total_loss += loss.item()\n",
        "\n",
        "            if hidden is not None:\n",
        "                hidden = (hidden[0].detach(), hidden[1].detach())\n",
        "\n",
        "        avg_train_loss = total_loss / len(train_loader)\n",
        "        perplexity = torch.exp(torch.tensor(avg_train_loss))\n",
        "\n",
        "        print(f'Train Loss: {avg_train_loss:.4f}')\n",
        "        print(f'Train Perplexity: {perplexity:.4f}')\n",
        "\n",
        "        avg_val_loss, val_perplexity = test_model(model, val_loader, criterion, pad_idx)\n",
        "\n",
        "        print(f'Val Loss: {avg_val_loss:.4f}')\n",
        "        print(f'Val Perplexity: {val_perplexity:.4f}')\n",
        "\n",
        "        # check for early stopping\n",
        "        if avg_val_loss < best_val_loss:\n",
        "            best_val_loss = avg_val_loss\n",
        "            early_stopping_counter = 0\n",
        "            torch.save(model.state_dict(), '2024201073_RNN.pt')\n",
        "        else:\n",
        "            early_stopping_counter += 1\n",
        "            if early_stopping_counter >= patience:\n",
        "                print(f'Early stopping at epoch {epoch + 1}')\n",
        "                break\n",
        "\n",
        "    return model"
      ]
    },
    {
      "cell_type": "code",
      "execution_count": 79,
      "metadata": {
        "id": "qXZpHbOaRa4l"
      },
      "outputs": [],
      "source": [
        "import matplotlib.pyplot as plt\n",
        "from tqdm import tqdm\n",
        "\n",
        "def train_model(model, train_loader, val_loader, optimizer, criterion, num_epochs, patience=2, pad_idx=0):\n",
        "    model.to(device)\n",
        "    early_stopping_counter = 0\n",
        "    best_val_loss = float('inf')\n",
        "\n",
        "    train_perplexities = []\n",
        "    val_perplexities = []\n",
        "\n",
        "    for epoch in range(num_epochs):\n",
        "        model.train()\n",
        "        total_loss = 0\n",
        "        hidden = None\n",
        "\n",
        "        for x, y in tqdm(train_loader):\n",
        "            x, y = x.to(device), y.to(device)\n",
        "            batch_size = x.size(0)\n",
        "\n",
        "            if hidden is not None and batch_size != hidden[0].size(1):\n",
        "                hidden = None\n",
        "\n",
        "            optimizer.zero_grad()\n",
        "            output, hidden = model(x, hidden)\n",
        "            loss = criterion(output.view(-1, output.shape[2]), y.view(-1))\n",
        "            loss.backward()\n",
        "            optimizer.step()\n",
        "\n",
        "            total_loss += loss.item()\n",
        "\n",
        "            if hidden is not None:\n",
        "                hidden = (hidden[0].detach(), hidden[1].detach())\n",
        "\n",
        "        avg_train_loss = total_loss / len(train_loader)\n",
        "        train_perplexity = torch.exp(torch.tensor(avg_train_loss)).item()\n",
        "        train_perplexities.append(train_perplexity)\n",
        "\n",
        "        print(f'Train Loss: {avg_train_loss:.4f}')\n",
        "        print(f'Train Perplexity: {train_perplexity:.4f}')\n",
        "\n",
        "        avg_val_loss, val_perplexity = test_model(model, val_loader, criterion, pad_idx)\n",
        "        val_perplexities.append(val_perplexity)\n",
        "\n",
        "        print(f'Val Loss: {avg_val_loss:.4f}')\n",
        "        print(f'Val Perplexity: {val_perplexity:.4f}')\n",
        "\n",
        "        # check for early stopping\n",
        "        if avg_val_loss < best_val_loss:\n",
        "            best_val_loss = avg_val_loss\n",
        "            early_stopping_counter = 0\n",
        "            torch.save(model.state_dict(), '2024201073_RNN.pt')\n",
        "        else:\n",
        "            early_stopping_counter += 1\n",
        "            if early_stopping_counter >= patience:\n",
        "                print(f'Early stopping at epoch {epoch + 1}')\n",
        "                break\n",
        "\n",
        "    # Plot perplexity graph\n",
        "    plt.figure(figsize=(10, 5))\n",
        "    plt.plot(range(1, len(train_perplexities) + 1), train_perplexities, label='Train Perplexity', marker='o')\n",
        "    plt.plot(range(1, len(val_perplexities) + 1), val_perplexities, label='Validation Perplexity', marker='o')\n",
        "    plt.xlabel('Epoch')\n",
        "    plt.ylabel('Perplexity')\n",
        "    # plt.ylim(0, 200)\n",
        "    plt.title('Train and Validation Perplexity per Epoch')\n",
        "    plt.legend()\n",
        "    plt.grid()\n",
        "    plt.show()\n",
        "\n",
        "    return model\n"
      ]
    },
    {
      "cell_type": "markdown",
      "metadata": {
        "id": "eELSCgaGgHqV"
      },
      "source": [
        "Save perplexities in File"
      ]
    },
    {
      "cell_type": "code",
      "execution_count": 38,
      "metadata": {
        "id": "B0tfTAm9gJSi"
      },
      "outputs": [],
      "source": [
        "def save_perplexities_lstm(model, sentences, criterion, filename, idx_to_word):\n",
        "    model.eval()\n",
        "    total_loss = 0\n",
        "    all_sentences = []\n",
        "    perplexity_scores = []\n",
        "\n",
        "    with torch.no_grad():\n",
        "        for sentence in sentences:\n",
        "            sentence_loss = 0\n",
        "            sentence_length = 0\n",
        "            input_indices = sentence[:-1]\n",
        "            target_indices = sentence[1:]\n",
        "\n",
        "            input_tensor = torch.tensor(input_indices, dtype=torch.long).unsqueeze(0).to(device)\n",
        "            targets = torch.tensor(target_indices, dtype=torch.long).to(device)\n",
        "            outputs, _ = model(input_tensor)\n",
        "\n",
        "            for i in range(outputs.shape[1]):\n",
        "                output = outputs[0, i]\n",
        "                target_word = targets[i]\n",
        "\n",
        "                loss = criterion(output.unsqueeze(0), target_word.unsqueeze(0))\n",
        "                sentence_loss += loss.item()\n",
        "                sentence_length += 1\n",
        "\n",
        "            avg_loss_per_sentence = sentence_loss / sentence_length\n",
        "            sentence_perplexity = torch.exp(torch.tensor(avg_loss_per_sentence)).item()\n",
        "            perplexity_scores.append(sentence_perplexity)\n",
        "\n",
        "            sentence_words = [idx_to_word[idx] for idx in sentence]\n",
        "            full_sentence = \" \".join(sentence_words)\n",
        "            all_sentences.append(full_sentence)\n",
        "\n",
        "        avg_perplexity = sum(perplexity_scores) / len(perplexity_scores)\n",
        "\n",
        "    with open(filename, 'w') as f:\n",
        "        for i, sentence in enumerate(all_sentences):\n",
        "            f.write(f\"{sentence}\\t{perplexity_scores[i]:.4f}\\n\")\n",
        "\n",
        "        f.write(f\"Average\\t{avg_perplexity:.4f}\\n\")\n",
        "\n",
        "    return avg_perplexity"
      ]
    },
    {
      "cell_type": "code",
      "execution_count": 39,
      "metadata": {
        "id": "nMMDKgdpgL-i"
      },
      "outputs": [],
      "source": [
        "def save_model(model, path):\n",
        "    torch.save(model.state_dict(), path)\n",
        "    print(f\"Model saved to {path}\")"
      ]
    },
    {
      "cell_type": "markdown",
      "metadata": {
        "id": "NvHFVgrkgOYH"
      },
      "source": [
        "Running the model"
      ]
    },
    {
      "cell_type": "code",
      "execution_count": 40,
      "metadata": {
        "colab": {
          "base_uri": "https://localhost:8080/"
        },
        "id": "j_PJpJyNgPvt",
        "outputId": "ed4dd207-9c4e-4bf9-c11a-e5b52b28da68"
      },
      "outputs": [
        {
          "name": "stdout",
          "output_type": "stream",
          "text": [
            "cuda\n"
          ]
        }
      ],
      "source": [
        "device = torch.device(\"cuda\" if torch.cuda.is_available() else \"cpu\")\n",
        "print(device)"
      ]
    },
    {
      "cell_type": "code",
      "execution_count": 41,
      "metadata": {
        "colab": {
          "base_uri": "https://localhost:8080/",
          "height": 93
        },
        "id": "DuJQW1N9hGW4",
        "outputId": "824aaca0-fc7e-422a-ed50-004b6723e7f0"
      },
      "outputs": [
        {
          "data": {
            "text/html": [
              "\n",
              "     <input type=\"file\" id=\"files-325cdd62-6c03-4406-bc91-fc3727d98a53\" name=\"files[]\" multiple disabled\n",
              "        style=\"border:none\" />\n",
              "     <output id=\"result-325cdd62-6c03-4406-bc91-fc3727d98a53\">\n",
              "      Upload widget is only available when the cell has been executed in the\n",
              "      current browser session. Please rerun this cell to enable.\n",
              "      </output>\n",
              "      <script>// Copyright 2017 Google LLC\n",
              "//\n",
              "// Licensed under the Apache License, Version 2.0 (the \"License\");\n",
              "// you may not use this file except in compliance with the License.\n",
              "// You may obtain a copy of the License at\n",
              "//\n",
              "//      http://www.apache.org/licenses/LICENSE-2.0\n",
              "//\n",
              "// Unless required by applicable law or agreed to in writing, software\n",
              "// distributed under the License is distributed on an \"AS IS\" BASIS,\n",
              "// WITHOUT WARRANTIES OR CONDITIONS OF ANY KIND, either express or implied.\n",
              "// See the License for the specific language governing permissions and\n",
              "// limitations under the License.\n",
              "\n",
              "/**\n",
              " * @fileoverview Helpers for google.colab Python module.\n",
              " */\n",
              "(function(scope) {\n",
              "function span(text, styleAttributes = {}) {\n",
              "  const element = document.createElement('span');\n",
              "  element.textContent = text;\n",
              "  for (const key of Object.keys(styleAttributes)) {\n",
              "    element.style[key] = styleAttributes[key];\n",
              "  }\n",
              "  return element;\n",
              "}\n",
              "\n",
              "// Max number of bytes which will be uploaded at a time.\n",
              "const MAX_PAYLOAD_SIZE = 100 * 1024;\n",
              "\n",
              "function _uploadFiles(inputId, outputId) {\n",
              "  const steps = uploadFilesStep(inputId, outputId);\n",
              "  const outputElement = document.getElementById(outputId);\n",
              "  // Cache steps on the outputElement to make it available for the next call\n",
              "  // to uploadFilesContinue from Python.\n",
              "  outputElement.steps = steps;\n",
              "\n",
              "  return _uploadFilesContinue(outputId);\n",
              "}\n",
              "\n",
              "// This is roughly an async generator (not supported in the browser yet),\n",
              "// where there are multiple asynchronous steps and the Python side is going\n",
              "// to poll for completion of each step.\n",
              "// This uses a Promise to block the python side on completion of each step,\n",
              "// then passes the result of the previous step as the input to the next step.\n",
              "function _uploadFilesContinue(outputId) {\n",
              "  const outputElement = document.getElementById(outputId);\n",
              "  const steps = outputElement.steps;\n",
              "\n",
              "  const next = steps.next(outputElement.lastPromiseValue);\n",
              "  return Promise.resolve(next.value.promise).then((value) => {\n",
              "    // Cache the last promise value to make it available to the next\n",
              "    // step of the generator.\n",
              "    outputElement.lastPromiseValue = value;\n",
              "    return next.value.response;\n",
              "  });\n",
              "}\n",
              "\n",
              "/**\n",
              " * Generator function which is called between each async step of the upload\n",
              " * process.\n",
              " * @param {string} inputId Element ID of the input file picker element.\n",
              " * @param {string} outputId Element ID of the output display.\n",
              " * @return {!Iterable<!Object>} Iterable of next steps.\n",
              " */\n",
              "function* uploadFilesStep(inputId, outputId) {\n",
              "  const inputElement = document.getElementById(inputId);\n",
              "  inputElement.disabled = false;\n",
              "\n",
              "  const outputElement = document.getElementById(outputId);\n",
              "  outputElement.innerHTML = '';\n",
              "\n",
              "  const pickedPromise = new Promise((resolve) => {\n",
              "    inputElement.addEventListener('change', (e) => {\n",
              "      resolve(e.target.files);\n",
              "    });\n",
              "  });\n",
              "\n",
              "  const cancel = document.createElement('button');\n",
              "  inputElement.parentElement.appendChild(cancel);\n",
              "  cancel.textContent = 'Cancel upload';\n",
              "  const cancelPromise = new Promise((resolve) => {\n",
              "    cancel.onclick = () => {\n",
              "      resolve(null);\n",
              "    };\n",
              "  });\n",
              "\n",
              "  // Wait for the user to pick the files.\n",
              "  const files = yield {\n",
              "    promise: Promise.race([pickedPromise, cancelPromise]),\n",
              "    response: {\n",
              "      action: 'starting',\n",
              "    }\n",
              "  };\n",
              "\n",
              "  cancel.remove();\n",
              "\n",
              "  // Disable the input element since further picks are not allowed.\n",
              "  inputElement.disabled = true;\n",
              "\n",
              "  if (!files) {\n",
              "    return {\n",
              "      response: {\n",
              "        action: 'complete',\n",
              "      }\n",
              "    };\n",
              "  }\n",
              "\n",
              "  for (const file of files) {\n",
              "    const li = document.createElement('li');\n",
              "    li.append(span(file.name, {fontWeight: 'bold'}));\n",
              "    li.append(span(\n",
              "        `(${file.type || 'n/a'}) - ${file.size} bytes, ` +\n",
              "        `last modified: ${\n",
              "            file.lastModifiedDate ? file.lastModifiedDate.toLocaleDateString() :\n",
              "                                    'n/a'} - `));\n",
              "    const percent = span('0% done');\n",
              "    li.appendChild(percent);\n",
              "\n",
              "    outputElement.appendChild(li);\n",
              "\n",
              "    const fileDataPromise = new Promise((resolve) => {\n",
              "      const reader = new FileReader();\n",
              "      reader.onload = (e) => {\n",
              "        resolve(e.target.result);\n",
              "      };\n",
              "      reader.readAsArrayBuffer(file);\n",
              "    });\n",
              "    // Wait for the data to be ready.\n",
              "    let fileData = yield {\n",
              "      promise: fileDataPromise,\n",
              "      response: {\n",
              "        action: 'continue',\n",
              "      }\n",
              "    };\n",
              "\n",
              "    // Use a chunked sending to avoid message size limits. See b/62115660.\n",
              "    let position = 0;\n",
              "    do {\n",
              "      const length = Math.min(fileData.byteLength - position, MAX_PAYLOAD_SIZE);\n",
              "      const chunk = new Uint8Array(fileData, position, length);\n",
              "      position += length;\n",
              "\n",
              "      const base64 = btoa(String.fromCharCode.apply(null, chunk));\n",
              "      yield {\n",
              "        response: {\n",
              "          action: 'append',\n",
              "          file: file.name,\n",
              "          data: base64,\n",
              "        },\n",
              "      };\n",
              "\n",
              "      let percentDone = fileData.byteLength === 0 ?\n",
              "          100 :\n",
              "          Math.round((position / fileData.byteLength) * 100);\n",
              "      percent.textContent = `${percentDone}% done`;\n",
              "\n",
              "    } while (position < fileData.byteLength);\n",
              "  }\n",
              "\n",
              "  // All done.\n",
              "  yield {\n",
              "    response: {\n",
              "      action: 'complete',\n",
              "    }\n",
              "  };\n",
              "}\n",
              "\n",
              "scope.google = scope.google || {};\n",
              "scope.google.colab = scope.google.colab || {};\n",
              "scope.google.colab._files = {\n",
              "  _uploadFiles,\n",
              "  _uploadFilesContinue,\n",
              "};\n",
              "})(self);\n",
              "</script> "
            ],
            "text/plain": [
              "<IPython.core.display.HTML object>"
            ]
          },
          "metadata": {},
          "output_type": "display_data"
        },
        {
          "name": "stdout",
          "output_type": "stream",
          "text": [
            "Saving Pride and Prejudice - Jane Austen.txt to Pride and Prejudice - Jane Austen (1).txt\n"
          ]
        }
      ],
      "source": [
        "from google.colab import files\n",
        "uploaded = files.upload()"
      ]
    },
    {
      "cell_type": "code",
      "execution_count": 42,
      "metadata": {
        "colab": {
          "base_uri": "https://localhost:8080/"
        },
        "id": "KDUbReK7gbDF",
        "outputId": "15b6bbfd-c38e-4168-d5b0-6f6e49dd3048"
      },
      "outputs": [
        {
          "name": "stdout",
          "output_type": "stream",
          "text": [
            "--2025-02-17 14:00:32--  http://nlp.stanford.edu/data/glove.6B.zip\n",
            "Resolving nlp.stanford.edu (nlp.stanford.edu)... 171.64.67.140\n",
            "Connecting to nlp.stanford.edu (nlp.stanford.edu)|171.64.67.140|:80... connected.\n",
            "HTTP request sent, awaiting response... 302 Found\n",
            "Location: https://nlp.stanford.edu/data/glove.6B.zip [following]\n",
            "--2025-02-17 14:00:32--  https://nlp.stanford.edu/data/glove.6B.zip\n",
            "Connecting to nlp.stanford.edu (nlp.stanford.edu)|171.64.67.140|:443... connected.\n",
            "HTTP request sent, awaiting response... 301 Moved Permanently\n",
            "Location: https://downloads.cs.stanford.edu/nlp/data/glove.6B.zip [following]\n",
            "--2025-02-17 14:00:33--  https://downloads.cs.stanford.edu/nlp/data/glove.6B.zip\n",
            "Resolving downloads.cs.stanford.edu (downloads.cs.stanford.edu)... 171.64.64.22\n",
            "Connecting to downloads.cs.stanford.edu (downloads.cs.stanford.edu)|171.64.64.22|:443... connected.\n",
            "HTTP request sent, awaiting response... 200 OK\n",
            "Length: 862182613 (822M) [application/zip]\n",
            "Saving to: ‘glove.6B.zip.1’\n",
            "\n",
            "glove.6B.zip.1      100%[===================>] 822.24M  5.04MB/s    in 2m 42s  \n",
            "\n",
            "2025-02-17 14:03:16 (5.06 MB/s) - ‘glove.6B.zip.1’ saved [862182613/862182613]\n",
            "\n",
            "Archive:  glove.6B.zip\n",
            "replace glove.6B.50d.txt? [y]es, [n]o, [A]ll, [N]one, [r]ename: y\n",
            "  inflating: glove.6B.50d.txt        \n",
            "replace glove.6B.100d.txt? [y]es, [n]o, [A]ll, [N]one, [r]ename: y\n",
            "  inflating: glove.6B.100d.txt       y\n",
            "\n",
            "replace glove.6B.200d.txt? [y]es, [n]o, [A]ll, [N]one, [r]ename:   inflating: glove.6B.200d.txt       y\n",
            "\n",
            "replace glove.6B.300d.txt? [y]es, [n]o, [A]ll, [N]one, [r]ename:   inflating: glove.6B.300d.txt       y\n",
            "\n"
          ]
        }
      ],
      "source": [
        "!wget http://nlp.stanford.edu/data/glove.6B.zip\n",
        "!unzip glove.6B.zip"
      ]
    },
    {
      "cell_type": "code",
      "execution_count": 43,
      "metadata": {
        "colab": {
          "base_uri": "https://localhost:8080/"
        },
        "id": "pHPNwK9ngXWp",
        "outputId": "f78435a4-d1f5-48db-e00c-02402a806d96"
      },
      "outputs": [
        {
          "name": "stdout",
          "output_type": "stream",
          "text": [
            "Length of sentences: 6085\n",
            "Train size: 3651\n",
            "Validation size: 1217\n",
            "Test size: 1217\n"
          ]
        }
      ],
      "source": [
        "with open('/content/Pride and Prejudice - Jane Austen.txt', 'r') as f:\n",
        "    corpus = f.read()\n",
        "\n",
        "corpus = preprocess(corpus)\n",
        "\n",
        "sentences, word_sentences = tokenize(corpus, 2)\n",
        "\n",
        "train_sentences, val_sentences, test_sentences = train_val_test_split(word_sentences)\n",
        "\n",
        "print(\"Train size:\", len(train_sentences))\n",
        "print(\"Validation size:\", len(val_sentences))\n",
        "print(\"Test size:\", len(test_sentences))"
      ]
    },
    {
      "cell_type": "code",
      "execution_count": 44,
      "metadata": {
        "id": "eUGE1NQEgfUm"
      },
      "outputs": [],
      "source": [
        "glove = create_glove_embeddings('/content/glove.6B.100d.txt')\n",
        "\n",
        "embeddings, encoded_train, encoded_val, encoded_test, word_to_idx, vocab = create_embeddings_and_encode(train_sentences, val_sentences, test_sentences, glove)"
      ]
    },
    {
      "cell_type": "code",
      "execution_count": 45,
      "metadata": {
        "colab": {
          "base_uri": "https://localhost:8080/"
        },
        "id": "1ML_hzW8gf6G",
        "outputId": "0d8e6175-da6b-472e-cbd0-26d746537792"
      },
      "outputs": [
        {
          "name": "stdout",
          "output_type": "stream",
          "text": [
            "Train dataset size: 3651\n",
            "Validation dataset size: 1217\n",
            "Test dataset size: 1217\n"
          ]
        }
      ],
      "source": [
        "pad_idx = word_to_idx['<PAD>']\n",
        "\n",
        "train_dataset = RNNDataset(encoded_train)\n",
        "val_dataset = RNNDataset(encoded_val)\n",
        "test_dataset = RNNDataset(encoded_test)\n",
        "\n",
        "train_loader = DataLoader(train_dataset, batch_size=64, collate_fn=lambda batch: collate_fn(batch, pad_idx), shuffle=True)\n",
        "val_loader = DataLoader(val_dataset, batch_size=64, collate_fn=lambda batch: collate_fn(batch, pad_idx), shuffle=True)\n",
        "test_loader = DataLoader(test_dataset, batch_size=64, collate_fn=lambda batch: collate_fn(batch, pad_idx), shuffle=True)\n",
        "\n",
        "print(f'Train dataset size: {len(train_dataset)}')\n",
        "print(f'Validation dataset size: {len(val_dataset)}')\n",
        "print(f'Test dataset size: {len(test_dataset)}')"
      ]
    },
    {
      "cell_type": "code",
      "execution_count": 127,
      "metadata": {
        "id": "IUBDZNE7gi5y"
      },
      "outputs": [],
      "source": [
        "learning_rate = 0.001\n",
        "num_epochs = 25\n",
        "patience = 2\n",
        "model = RNN(embeddings, 300, 0.5, 3)\n",
        "criterion = nn.CrossEntropyLoss(ignore_index=pad_idx)\n",
        "optimizer = optim.Adam(model.parameters(), learning_rate)"
      ]
    },
    {
      "cell_type": "code",
      "execution_count": 128,
      "metadata": {
        "colab": {
          "base_uri": "https://localhost:8080/"
        },
        "id": "WRgxop8wgpCH",
        "outputId": "b3aeb149-3a0f-4031-928e-e1dad27a843b"
      },
      "outputs": [
        {
          "name": "stderr",
          "output_type": "stream",
          "text": [
            "100%|██████████| 58/58 [00:02<00:00, 21.90it/s]\n"
          ]
        },
        {
          "name": "stdout",
          "output_type": "stream",
          "text": [
            "Train Loss: 6.6593\n",
            "Train Perplexity: 779.9994\n",
            "Val Loss: 6.0167\n",
            "Val Perplexity: 410.2182\n"
          ]
        },
        {
          "name": "stderr",
          "output_type": "stream",
          "text": [
            "100%|██████████| 58/58 [00:02<00:00, 21.93it/s]\n"
          ]
        },
        {
          "name": "stdout",
          "output_type": "stream",
          "text": [
            "Train Loss: 6.3260\n",
            "Train Perplexity: 558.8979\n",
            "Val Loss: 5.9504\n",
            "Val Perplexity: 383.9057\n"
          ]
        },
        {
          "name": "stderr",
          "output_type": "stream",
          "text": [
            "100%|██████████| 58/58 [00:02<00:00, 21.82it/s]\n"
          ]
        },
        {
          "name": "stdout",
          "output_type": "stream",
          "text": [
            "Train Loss: 6.2200\n",
            "Train Perplexity: 502.7223\n",
            "Val Loss: 5.8565\n",
            "Val Perplexity: 349.4850\n"
          ]
        },
        {
          "name": "stderr",
          "output_type": "stream",
          "text": [
            "100%|██████████| 58/58 [00:02<00:00, 21.64it/s]\n"
          ]
        },
        {
          "name": "stdout",
          "output_type": "stream",
          "text": [
            "Train Loss: 6.0355\n",
            "Train Perplexity: 418.0233\n",
            "Val Loss: 5.6472\n",
            "Val Perplexity: 283.4832\n"
          ]
        },
        {
          "name": "stderr",
          "output_type": "stream",
          "text": [
            "100%|██████████| 58/58 [00:02<00:00, 22.12it/s]\n"
          ]
        },
        {
          "name": "stdout",
          "output_type": "stream",
          "text": [
            "Train Loss: 5.8275\n",
            "Train Perplexity: 339.5025\n",
            "Val Loss: 5.5386\n",
            "Val Perplexity: 254.3284\n"
          ]
        },
        {
          "name": "stderr",
          "output_type": "stream",
          "text": [
            "100%|██████████| 58/58 [00:02<00:00, 21.92it/s]\n"
          ]
        },
        {
          "name": "stdout",
          "output_type": "stream",
          "text": [
            "Train Loss: 5.6539\n",
            "Train Perplexity: 285.3893\n",
            "Val Loss: 5.3742\n",
            "Val Perplexity: 215.7770\n"
          ]
        },
        {
          "name": "stderr",
          "output_type": "stream",
          "text": [
            "100%|██████████| 58/58 [00:02<00:00, 20.92it/s]\n"
          ]
        },
        {
          "name": "stdout",
          "output_type": "stream",
          "text": [
            "Train Loss: 5.5018\n",
            "Train Perplexity: 245.1209\n",
            "Val Loss: 5.2960\n",
            "Val Perplexity: 199.5295\n"
          ]
        },
        {
          "name": "stderr",
          "output_type": "stream",
          "text": [
            "100%|██████████| 58/58 [00:02<00:00, 21.95it/s]\n"
          ]
        },
        {
          "name": "stdout",
          "output_type": "stream",
          "text": [
            "Train Loss: 5.4032\n",
            "Train Perplexity: 222.1067\n",
            "Val Loss: 5.2413\n",
            "Val Perplexity: 188.9184\n"
          ]
        },
        {
          "name": "stderr",
          "output_type": "stream",
          "text": [
            "100%|██████████| 58/58 [00:02<00:00, 22.18it/s]\n"
          ]
        },
        {
          "name": "stdout",
          "output_type": "stream",
          "text": [
            "Train Loss: 5.3176\n",
            "Train Perplexity: 203.8884\n",
            "Val Loss: 5.1322\n",
            "Val Perplexity: 169.3842\n"
          ]
        },
        {
          "name": "stderr",
          "output_type": "stream",
          "text": [
            "100%|██████████| 58/58 [00:02<00:00, 22.04it/s]\n"
          ]
        },
        {
          "name": "stdout",
          "output_type": "stream",
          "text": [
            "Train Loss: 5.2494\n",
            "Train Perplexity: 190.4429\n",
            "Val Loss: 5.0887\n",
            "Val Perplexity: 162.1782\n"
          ]
        },
        {
          "name": "stderr",
          "output_type": "stream",
          "text": [
            "100%|██████████| 58/58 [00:02<00:00, 21.58it/s]\n"
          ]
        },
        {
          "name": "stdout",
          "output_type": "stream",
          "text": [
            "Train Loss: 5.1773\n",
            "Train Perplexity: 177.2118\n",
            "Val Loss: 5.1743\n",
            "Val Perplexity: 176.6740\n"
          ]
        },
        {
          "name": "stderr",
          "output_type": "stream",
          "text": [
            "100%|██████████| 58/58 [00:02<00:00, 21.95it/s]\n"
          ]
        },
        {
          "name": "stdout",
          "output_type": "stream",
          "text": [
            "Train Loss: 5.1307\n",
            "Train Perplexity: 169.1341\n",
            "Val Loss: 5.0560\n",
            "Val Perplexity: 156.9601\n"
          ]
        },
        {
          "name": "stderr",
          "output_type": "stream",
          "text": [
            "100%|██████████| 58/58 [00:02<00:00, 21.54it/s]\n"
          ]
        },
        {
          "name": "stdout",
          "output_type": "stream",
          "text": [
            "Train Loss: 5.1389\n",
            "Train Perplexity: 170.5360\n",
            "Val Loss: 5.0986\n",
            "Val Perplexity: 163.7845\n"
          ]
        },
        {
          "name": "stderr",
          "output_type": "stream",
          "text": [
            "100%|██████████| 58/58 [00:02<00:00, 22.04it/s]\n"
          ]
        },
        {
          "name": "stdout",
          "output_type": "stream",
          "text": [
            "Train Loss: 5.0360\n",
            "Train Perplexity: 153.8492\n",
            "Val Loss: 5.0964\n",
            "Val Perplexity: 163.4400\n",
            "Early stopping at epoch 14\n"
          ]
        }
      ],
      "source": [
        "model = train_model(model, train_loader, val_loader, optimizer, criterion, num_epochs, patience)"
      ]
    },
    {
      "cell_type": "markdown",
      "metadata": {
        "id": "PlPfNSzlgses"
      },
      "source": [
        "Perplexity Scores"
      ]
    },
    {
      "cell_type": "code",
      "execution_count": 129,
      "metadata": {
        "colab": {
          "base_uri": "https://localhost:8080/"
        },
        "id": "S0t9MF4rgr4U",
        "outputId": "23cc8428-4ec8-4f6f-ad9c-93278b8ce94c"
      },
      "outputs": [
        {
          "name": "stdout",
          "output_type": "stream",
          "text": [
            "\n",
            "Train Loss: 4.834839492008604\n",
            "Train Perplexity: 125.81836700439453\n"
          ]
        }
      ],
      "source": [
        "loss, perplexity = test_model(model, train_loader, criterion, pad_idx)\n",
        "print(f'\\nTrain Loss: {loss}')\n",
        "print(f'Train Perplexity: {perplexity}')"
      ]
    },
    {
      "cell_type": "code",
      "execution_count": 130,
      "metadata": {
        "colab": {
          "base_uri": "https://localhost:8080/"
        },
        "id": "10Xu2kKkgwcd",
        "outputId": "6f8fd9f0-86ff-4d3e-9aba-f900542f2d40"
      },
      "outputs": [
        {
          "name": "stdout",
          "output_type": "stream",
          "text": [
            "\n",
            "Val Loss: 5.10992751121521\n",
            "Val Perplexity: 165.6583709716797\n"
          ]
        }
      ],
      "source": [
        "loss, perplexity = test_model(model, val_loader, criterion, pad_idx)\n",
        "print(f'\\nVal Loss: {loss}')\n",
        "print(f'Val Perplexity: {perplexity}')"
      ]
    },
    {
      "cell_type": "code",
      "execution_count": 131,
      "metadata": {
        "colab": {
          "base_uri": "https://localhost:8080/"
        },
        "id": "ikAYzVfsgyWO",
        "outputId": "21054295-1ed3-47fc-b614-8f61bf7098a9"
      },
      "outputs": [
        {
          "name": "stdout",
          "output_type": "stream",
          "text": [
            "\n",
            "Test Loss: 5.147359418869018\n",
            "Test Perplexity: 171.9767608642578\n"
          ]
        }
      ],
      "source": [
        "loss, perplexity = test_model(model, test_loader, criterion, pad_idx)\n",
        "print(f'\\nTest Loss: {loss}')\n",
        "print(f'Test Perplexity: {perplexity}')"
      ]
    },
    {
      "cell_type": "code",
      "execution_count": 136,
      "metadata": {
        "colab": {
          "base_uri": "https://localhost:8080/"
        },
        "id": "gAkuKqEhg1EB",
        "outputId": "e5f24049-baa7-4069-ac8b-fa0a00c81ca0"
      },
      "outputs": [
        {
          "data": {
            "text/plain": [
              "196.99069831992333"
            ]
          },
          "execution_count": 136,
          "metadata": {},
          "output_type": "execute_result"
        }
      ],
      "source": [
        "save_perplexities_lstm(model, encoded_train, criterion, '2024201073_RNN_pp_train_perplexity.txt', vocab)\n",
        "save_perplexities_lstm(model, encoded_val, criterion, '2024201073_RNN_pp_val_perplexity.txt', vocab)\n",
        "save_perplexities_lstm(model, encoded_test, criterion, '2024201073_RNN_pp_test_perplexity.txt', vocab)"
      ]
    },
    {
      "cell_type": "code",
      "execution_count": 137,
      "metadata": {
        "colab": {
          "base_uri": "https://localhost:8080/"
        },
        "id": "-1dD7tvNg8FS",
        "outputId": "0879f872-5dbe-4e75-a2c2-55e41bf55f9a"
      },
      "outputs": [
        {
          "name": "stdout",
          "output_type": "stream",
          "text": [
            "Data saved successfully!\n"
          ]
        }
      ],
      "source": [
        "import pickle\n",
        "\n",
        "with open('data_store_rnn.pkl', 'wb') as f:\n",
        "    pickle.dump({\n",
        "        'embeddings': embeddings,\n",
        "        'vocab': vocab,\n",
        "        'word_to_idx': word_to_idx,\n",
        "        'encoded_train': encoded_train,\n",
        "        'encoded_val': encoded_val,\n",
        "        'encoded_test': encoded_test,\n",
        "    }, f)\n",
        "\n",
        "print(\"Data saved successfully!\")"
      ]
    },
    {
      "cell_type": "code",
      "execution_count": 28,
      "metadata": {
        "id": "a3eIVap9n_yL"
      },
      "outputs": [],
      "source": []
    }
  ],
  "metadata": {
    "accelerator": "GPU",
    "colab": {
      "gpuType": "T4",
      "provenance": []
    },
    "kernelspec": {
      "display_name": "Python 3",
      "name": "python3"
    },
    "language_info": {
      "name": "python"
    }
  },
  "nbformat": 4,
  "nbformat_minor": 0
}
