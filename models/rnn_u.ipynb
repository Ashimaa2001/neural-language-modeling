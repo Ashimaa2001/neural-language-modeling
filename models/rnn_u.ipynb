{
  "cells": [
    {
      "cell_type": "code",
      "execution_count": null,
      "metadata": {
        "id": "U8oBtJZPciTH"
      },
      "outputs": [],
      "source": [
        "import torch\n",
        "from torch import nn, optim\n",
        "from torch.utils.data import DataLoader, Dataset\n",
        "import torch.nn.functional as F\n",
        "import numpy as np\n",
        "import re\n",
        "import nltk\n",
        "from nltk.tokenize import sent_tokenize, word_tokenize\n",
        "import random\n",
        "import time\n",
        "from sklearn.metrics import accuracy_score, precision_recall_fscore_support\n",
        "from tqdm import tqdm\n",
        "from torch.nn.utils.rnn import pad_sequence"
      ]
    },
    {
      "cell_type": "code",
      "execution_count": null,
      "metadata": {
        "colab": {
          "base_uri": "https://localhost:8080/"
        },
        "id": "RUFLDWq4c0YU",
        "outputId": "fd67be1f-069a-4510-cae2-c57a7d990779"
      },
      "outputs": [
        {
          "name": "stderr",
          "output_type": "stream",
          "text": [
            "[nltk_data] Downloading package punkt to /root/nltk_data...\n",
            "[nltk_data]   Unzipping tokenizers/punkt.zip.\n",
            "[nltk_data] Downloading package punkt_tab to /root/nltk_data...\n",
            "[nltk_data]   Unzipping tokenizers/punkt_tab.zip.\n"
          ]
        },
        {
          "data": {
            "text/plain": [
              "True"
            ]
          },
          "execution_count": 2,
          "metadata": {},
          "output_type": "execute_result"
        }
      ],
      "source": [
        "nltk.download('punkt')\n",
        "nltk.download('punkt_tab')"
      ]
    },
    {
      "cell_type": "markdown",
      "metadata": {
        "id": "hXP8L3PWc4sO"
      },
      "source": [
        "PreProcess"
      ]
    },
    {
      "cell_type": "code",
      "execution_count": null,
      "metadata": {
        "id": "yHIHoSozc0-G"
      },
      "outputs": [],
      "source": [
        "def preprocess(data):\n",
        "    data = re.sub(r'\\n|\\s+', ' ', data) #newline and multiple spaces -> single space\n",
        "    data = re.sub(r'[’‘]', '\\'', data) #apostrophes\n",
        "    data = re.sub(r'[“”`\\' ]|[–—-]', ' ', data) #quotes and dashes\n",
        "    data = re.sub(r'(?<!\\w)([.!?])(?!\\w)', r' \\1 ', data) #dont remove punctuation\n",
        "    data = re.sub(r'[™•]', ' ', data) #remove other unwanted symbols\n",
        "    return data.strip() #strip extra spaces"
      ]
    },
    {
      "cell_type": "markdown",
      "metadata": {
        "id": "L3P-Fy7hc_O7"
      },
      "source": [
        "Tokenization"
      ]
    },
    {
      "cell_type": "code",
      "execution_count": null,
      "metadata": {
        "id": "CjVhfyrtc73X"
      },
      "outputs": [],
      "source": [
        "def tokenize(data, min_length_sentences):\n",
        "    sentences = sent_tokenize(data)\n",
        "    sentences = [sentence for sentence in sentences if len(sentence.split()) >= min_length_sentences]\n",
        "\n",
        "    print(\"Length of sentences:\", len(sentences))\n",
        "\n",
        "    words_sentences = []\n",
        "\n",
        "    for sentence in sentences:\n",
        "        words = word_tokenize(sentence)\n",
        "        words = [word.lower() for word in words if word.lower() not in ['.', ',', '!', '?', ';', ':']]\n",
        "        words = ['<s>'] + words + ['</s>']\n",
        "        words_sentences.append(words)\n",
        "\n",
        "    return sentences, words_sentences"
      ]
    },
    {
      "cell_type": "markdown",
      "metadata": {
        "id": "4GrsNKPxdTSa"
      },
      "source": [
        "Data Prepartions"
      ]
    },
    {
      "cell_type": "code",
      "execution_count": null,
      "metadata": {
        "id": "5buFkfImdUY_"
      },
      "outputs": [],
      "source": [
        "def train_val_test_split(sentences, train_ratio=0.8, val_ratio=0.15, seed=None, num_shuffles=1):\n",
        "    if seed is not None:\n",
        "        random.seed(seed)\n",
        "\n",
        "    for _ in range(num_shuffles):\n",
        "        random.shuffle(sentences)\n",
        "\n",
        "    total_sentences = len(sentences)\n",
        "\n",
        "    train_size = int(total_sentences * train_ratio)\n",
        "    val_size = int(total_sentences * val_ratio)\n",
        "    test_size = total_sentences - train_size - val_size\n",
        "\n",
        "    train_sentences = sentences[:train_size]\n",
        "    val_sentences = sentences[train_size:train_size + val_size]\n",
        "    test_sentences = sentences[train_size + val_size:]\n",
        "\n",
        "    return train_sentences, val_sentences, test_sentences"
      ]
    },
    {
      "cell_type": "markdown",
      "metadata": {
        "id": "Wv-k0-mLdYDH"
      },
      "source": [
        "Load Glove Embeddings"
      ]
    },
    {
      "cell_type": "code",
      "execution_count": null,
      "metadata": {
        "id": "j7BLDaNkdZtV"
      },
      "outputs": [],
      "source": [
        "def create_glove_embeddings(glove_path):\n",
        "    glove = {}\n",
        "    embedding_dim = 0\n",
        "\n",
        "    with open(glove_path, 'r') as f:\n",
        "        for line in f:\n",
        "            values = line.split()\n",
        "            word = values[0]\n",
        "            vector = torch.tensor([float(val) for val in values[1:]])\n",
        "            glove[word] = vector\n",
        "            embedding_dim = len(values[1:])\n",
        "\n",
        "    glove['<UNK>'] = torch.mean(torch.stack(list(glove.values())), dim=0)\n",
        "    glove['<PAD>'] = torch.zeros(embedding_dim)\n",
        "    glove['<s>'] = torch.rand(embedding_dim)\n",
        "    glove['</s>'] = torch.rand(embedding_dim)\n",
        "\n",
        "    return glove"
      ]
    },
    {
      "cell_type": "markdown",
      "metadata": {
        "id": "C6I6VgocdfQs"
      },
      "source": [
        "Creation of vocab and embeddings"
      ]
    },
    {
      "cell_type": "code",
      "execution_count": null,
      "metadata": {
        "id": "XM3bc6YudhtI"
      },
      "outputs": [],
      "source": [
        "def create_embeddings_and_encode(train_sentences, val_sentences, test_sentences, glove):\n",
        "    embedding_dim = len(list(glove.values())[0])\n",
        "    vocab = set()\n",
        "\n",
        "    vocab.update(['<UNK>', '<PAD>', '<s>', '</s>'])\n",
        "    for sentence in train_sentences:\n",
        "        for word in sentence:\n",
        "            if word in glove:\n",
        "                vocab.add(word)\n",
        "            else:\n",
        "                sentence[sentence.index(word)] = '<UNK>'\n",
        "\n",
        "    embeddings = np.zeros((len(vocab), embedding_dim))\n",
        "    word_to_idx = {word: idx for idx, word in enumerate(vocab)}\n",
        "\n",
        "    for word in vocab:\n",
        "        if word in glove:\n",
        "            embeddings[word_to_idx[word]] = glove[word]\n",
        "        else:\n",
        "            embeddings[word_to_idx[word]] = np.random.rand(embedding_dim)\n",
        "\n",
        "    def encode_sentences(sentences, word_to_idx):\n",
        "        encoded_sentences = []\n",
        "        for sentence in sentences:\n",
        "            encoded_sentence = [word_to_idx[word] if word in word_to_idx else word_to_idx['<UNK>'] for word in sentence]\n",
        "            encoded_sentences.append(encoded_sentence)\n",
        "        return encoded_sentences\n",
        "\n",
        "    encoded_train_sentences = encode_sentences(train_sentences, word_to_idx)\n",
        "    encoded_val_sentences = encode_sentences(val_sentences, word_to_idx)\n",
        "    encoded_test_sentences = encode_sentences(test_sentences, word_to_idx)\n",
        "\n",
        "    return torch.FloatTensor(embeddings), encoded_train_sentences, encoded_val_sentences, encoded_test_sentences, word_to_idx, list(vocab)"
      ]
    },
    {
      "cell_type": "markdown",
      "metadata": {
        "id": "_wEa2XbmdlHB"
      },
      "source": [
        "Daatset for trainig RNN"
      ]
    },
    {
      "cell_type": "code",
      "execution_count": null,
      "metadata": {
        "id": "eBdkGr9TdoNB"
      },
      "outputs": [],
      "source": [
        "class RNNDataset(Dataset):\n",
        "    def __init__(self, data):\n",
        "        self.data = data\n",
        "\n",
        "    def __len__(self):\n",
        "        return len(self.data)\n",
        "\n",
        "    def __getitem__(self, idx):\n",
        "        sentence = self.data[idx]\n",
        "        input_sentence = torch.tensor(sentence[:-1], dtype=torch.long)\n",
        "        target = torch.tensor(sentence[1:], dtype=torch.long)\n",
        "        return input_sentence, target"
      ]
    },
    {
      "cell_type": "code",
      "execution_count": null,
      "metadata": {
        "id": "9XSF1zmveW21"
      },
      "outputs": [],
      "source": [
        "def collate_fn(batch, pad_idx):\n",
        "    input_sentences, targets = zip(*batch)\n",
        "    input_sentences = pad_sequence(input_sentences, batch_first=True, padding_value=pad_idx)\n",
        "    targets = pad_sequence(targets, batch_first=True, padding_value=pad_idx)\n",
        "    return input_sentences, targets"
      ]
    },
    {
      "cell_type": "markdown",
      "metadata": {
        "id": "Nrq6AqqtefLM"
      },
      "source": [
        "RNN"
      ]
    },
    {
      "cell_type": "code",
      "execution_count": null,
      "metadata": {
        "id": "PkiKT08vefr8"
      },
      "outputs": [],
      "source": [
        "class RNN(nn.Module):\n",
        "    def __init__(self, embeddings, hidden_dim, dropout, num_layers=1):\n",
        "        super(RNN, self).__init__()\n",
        "        # Freeze embeddings\n",
        "        self.embeddings = nn.Embedding.from_pretrained(embeddings, freeze=True)\n",
        "        self.vocab_size = embeddings.shape[0]\n",
        "        self.embedding_dim = embeddings.shape[1]\n",
        "        self.hidden_dim = hidden_dim\n",
        "        self.num_layers = num_layers\n",
        "        self.dropout_prob = dropout  # Avoid overwriting nn.Dropout later\n",
        "\n",
        "        # Define RNN layer\n",
        "        self.rnn = nn.RNN(input_size=self.embedding_dim, hidden_size=self.hidden_dim,\n",
        "                          num_layers=self.num_layers, dropout=self.dropout_prob, batch_first=True)\n",
        "\n",
        "        self.fc1 = nn.Linear(self.hidden_dim, self.vocab_size)\n",
        "        self.dropout = nn.Dropout(self.dropout_prob)  # Keep dropout for regularization\n",
        "\n",
        "    def forward(self, input_seq, hidden=None):\n",
        "        input_seq = self.embeddings(input_seq)  # Convert tokens to embeddings\n",
        "\n",
        "        if hidden is None:\n",
        "            rnn_out, hidden = self.rnn(input_seq)\n",
        "        else:\n",
        "            rnn_out, hidden = self.rnn(input_seq, hidden)\n",
        "\n",
        "        return self.fc1(self.dropout(rnn_out)), hidden"
      ]
    },
    {
      "cell_type": "markdown",
      "metadata": {
        "id": "xUxngsuBf3-x"
      },
      "source": [
        "Model Testing"
      ]
    },
    {
      "cell_type": "code",
      "execution_count": null,
      "metadata": {
        "id": "MgSC11jPf5Ha"
      },
      "outputs": [],
      "source": [
        "def test_model(model, val_loader, criterion, pad_idx):\n",
        "    model.eval()\n",
        "    total_loss = 0\n",
        "    hidden = None\n",
        "\n",
        "    with torch.no_grad():\n",
        "        for x, y in val_loader:\n",
        "            x, y = x.to(device), y.to(device)\n",
        "            batch_size = x.size(0)\n",
        "\n",
        "            if hidden is not None and batch_size != hidden[0].size(1):\n",
        "                hidden = None\n",
        "\n",
        "            output, hidden = model(x, hidden)\n",
        "            loss = criterion(output.view(-1, output.shape[2]), y.view(-1))\n",
        "            total_loss += loss.item()\n",
        "\n",
        "            if hidden is not None:\n",
        "                hidden = (hidden[0].detach(), hidden[1].detach())\n",
        "\n",
        "    avg_val_loss = total_loss / len(val_loader)\n",
        "    val_perplexity = torch.exp(torch.tensor(avg_val_loss))\n",
        "    return avg_val_loss, val_perplexity"
      ]
    },
    {
      "cell_type": "markdown",
      "metadata": {
        "id": "8G_YscaJf-qE"
      },
      "source": [
        "Train Model"
      ]
    },
    {
      "cell_type": "code",
      "execution_count": null,
      "metadata": {
        "id": "oAKZdyCXgAYk"
      },
      "outputs": [],
      "source": [
        "def train_model(model, train_loader, val_loader, optimizer, criterion, num_epochs, patience=2, pad_idx=0):\n",
        "    model.to(device)\n",
        "    early_stopping_counter = 0\n",
        "    best_val_loss = float('inf')\n",
        "\n",
        "    for epoch in range(num_epochs):\n",
        "        model.train()\n",
        "        total_loss = 0\n",
        "        hidden = None\n",
        "\n",
        "        for x, y in tqdm(train_loader):\n",
        "            x, y = x.to(device), y.to(device)\n",
        "            batch_size = x.size(0)\n",
        "\n",
        "            if hidden is not None and batch_size != hidden[0].size(1):\n",
        "                hidden = None\n",
        "\n",
        "            optimizer.zero_grad()\n",
        "            output, hidden = model(x, hidden)\n",
        "            loss = criterion(output.view(-1, output.shape[2]), y.view(-1))\n",
        "            loss.backward()\n",
        "            optimizer.step()\n",
        "\n",
        "            total_loss += loss.item()\n",
        "\n",
        "            if hidden is not None:\n",
        "                hidden = (hidden[0].detach(), hidden[1].detach())\n",
        "\n",
        "        avg_train_loss = total_loss / len(train_loader)\n",
        "        perplexity = torch.exp(torch.tensor(avg_train_loss))\n",
        "\n",
        "        print(f'Train Loss: {avg_train_loss:.4f}')\n",
        "        print(f'Train Perplexity: {perplexity:.4f}')\n",
        "\n",
        "        avg_val_loss, val_perplexity = test_model(model, val_loader, criterion, pad_idx)\n",
        "\n",
        "        print(f'Val Loss: {avg_val_loss:.4f}')\n",
        "        print(f'Val Perplexity: {val_perplexity:.4f}')\n",
        "\n",
        "        # check for early stopping\n",
        "        if avg_val_loss < best_val_loss:\n",
        "            best_val_loss = avg_val_loss\n",
        "            early_stopping_counter = 0\n",
        "            torch.save(model.state_dict(), '2024201073_RNN_u.pt')\n",
        "        else:\n",
        "            early_stopping_counter += 1\n",
        "            if early_stopping_counter >= patience:\n",
        "                print(f'Early stopping at epoch {epoch + 1}')\n",
        "                break\n",
        "\n",
        "    return model"
      ]
    },
    {
      "cell_type": "markdown",
      "metadata": {
        "id": "eELSCgaGgHqV"
      },
      "source": [
        "Save perplexities in File"
      ]
    },
    {
      "cell_type": "code",
      "execution_count": null,
      "metadata": {
        "id": "B0tfTAm9gJSi"
      },
      "outputs": [],
      "source": [
        "def save_perplexities_lstm(model, sentences, criterion, filename, idx_to_word):\n",
        "    model.eval()\n",
        "    total_loss = 0\n",
        "    all_sentences = []\n",
        "    perplexity_scores = []\n",
        "\n",
        "    with torch.no_grad():\n",
        "        for sentence in sentences:\n",
        "            sentence_loss = 0\n",
        "            sentence_length = 0\n",
        "            input_indices = sentence[:-1]\n",
        "            target_indices = sentence[1:]\n",
        "\n",
        "            input_tensor = torch.tensor(input_indices, dtype=torch.long).unsqueeze(0).to(device)\n",
        "            targets = torch.tensor(target_indices, dtype=torch.long).to(device)\n",
        "            outputs, _ = model(input_tensor)\n",
        "\n",
        "            for i in range(outputs.shape[1]):\n",
        "                output = outputs[0, i]\n",
        "                target_word = targets[i]\n",
        "\n",
        "                loss = criterion(output.unsqueeze(0), target_word.unsqueeze(0))\n",
        "                sentence_loss += loss.item()\n",
        "                sentence_length += 1\n",
        "\n",
        "            avg_loss_per_sentence = sentence_loss / sentence_length\n",
        "            sentence_perplexity = torch.exp(torch.tensor(avg_loss_per_sentence)).item()\n",
        "            perplexity_scores.append(sentence_perplexity)\n",
        "\n",
        "            sentence_words = [idx_to_word[idx] for idx in sentence]\n",
        "            full_sentence = \" \".join(sentence_words)\n",
        "            all_sentences.append(full_sentence)\n",
        "\n",
        "        avg_perplexity = sum(perplexity_scores) / len(perplexity_scores)\n",
        "\n",
        "    with open(filename, 'w') as f:\n",
        "        for i, sentence in enumerate(all_sentences):\n",
        "            f.write(f\"{sentence}\\t{perplexity_scores[i]:.4f}\\n\")\n",
        "\n",
        "        f.write(f\"Average\\t{avg_perplexity:.4f}\\n\")\n",
        "\n",
        "    return avg_perplexity"
      ]
    },
    {
      "cell_type": "code",
      "execution_count": null,
      "metadata": {
        "id": "nMMDKgdpgL-i"
      },
      "outputs": [],
      "source": [
        "def save_model(model, path):\n",
        "    torch.save(model.state_dict(), path)\n",
        "    print(f\"Model saved to {path}\")"
      ]
    },
    {
      "cell_type": "markdown",
      "metadata": {
        "id": "NvHFVgrkgOYH"
      },
      "source": [
        "Running the model"
      ]
    },
    {
      "cell_type": "code",
      "execution_count": null,
      "metadata": {
        "colab": {
          "base_uri": "https://localhost:8080/"
        },
        "id": "j_PJpJyNgPvt",
        "outputId": "82b4e2f7-bc00-4e57-c8f5-7edb50575702"
      },
      "outputs": [
        {
          "name": "stdout",
          "output_type": "stream",
          "text": [
            "cuda\n"
          ]
        }
      ],
      "source": [
        "device = torch.device(\"cuda\" if torch.cuda.is_available() else \"cpu\")\n",
        "print(device)"
      ]
    },
    {
      "cell_type": "code",
      "execution_count": null,
      "metadata": {
        "colab": {
          "base_uri": "https://localhost:8080/",
          "height": 73
        },
        "id": "DuJQW1N9hGW4",
        "outputId": "54542c12-20cc-4511-ff4d-d5c1d3d0848e"
      },
      "outputs": [
        {
          "data": {
            "text/html": [
              "\n",
              "     <input type=\"file\" id=\"files-c756bdf4-9154-4b5e-a253-3e9a7b2f61f2\" name=\"files[]\" multiple disabled\n",
              "        style=\"border:none\" />\n",
              "     <output id=\"result-c756bdf4-9154-4b5e-a253-3e9a7b2f61f2\">\n",
              "      Upload widget is only available when the cell has been executed in the\n",
              "      current browser session. Please rerun this cell to enable.\n",
              "      </output>\n",
              "      <script>// Copyright 2017 Google LLC\n",
              "//\n",
              "// Licensed under the Apache License, Version 2.0 (the \"License\");\n",
              "// you may not use this file except in compliance with the License.\n",
              "// You may obtain a copy of the License at\n",
              "//\n",
              "//      http://www.apache.org/licenses/LICENSE-2.0\n",
              "//\n",
              "// Unless required by applicable law or agreed to in writing, software\n",
              "// distributed under the License is distributed on an \"AS IS\" BASIS,\n",
              "// WITHOUT WARRANTIES OR CONDITIONS OF ANY KIND, either express or implied.\n",
              "// See the License for the specific language governing permissions and\n",
              "// limitations under the License.\n",
              "\n",
              "/**\n",
              " * @fileoverview Helpers for google.colab Python module.\n",
              " */\n",
              "(function(scope) {\n",
              "function span(text, styleAttributes = {}) {\n",
              "  const element = document.createElement('span');\n",
              "  element.textContent = text;\n",
              "  for (const key of Object.keys(styleAttributes)) {\n",
              "    element.style[key] = styleAttributes[key];\n",
              "  }\n",
              "  return element;\n",
              "}\n",
              "\n",
              "// Max number of bytes which will be uploaded at a time.\n",
              "const MAX_PAYLOAD_SIZE = 100 * 1024;\n",
              "\n",
              "function _uploadFiles(inputId, outputId) {\n",
              "  const steps = uploadFilesStep(inputId, outputId);\n",
              "  const outputElement = document.getElementById(outputId);\n",
              "  // Cache steps on the outputElement to make it available for the next call\n",
              "  // to uploadFilesContinue from Python.\n",
              "  outputElement.steps = steps;\n",
              "\n",
              "  return _uploadFilesContinue(outputId);\n",
              "}\n",
              "\n",
              "// This is roughly an async generator (not supported in the browser yet),\n",
              "// where there are multiple asynchronous steps and the Python side is going\n",
              "// to poll for completion of each step.\n",
              "// This uses a Promise to block the python side on completion of each step,\n",
              "// then passes the result of the previous step as the input to the next step.\n",
              "function _uploadFilesContinue(outputId) {\n",
              "  const outputElement = document.getElementById(outputId);\n",
              "  const steps = outputElement.steps;\n",
              "\n",
              "  const next = steps.next(outputElement.lastPromiseValue);\n",
              "  return Promise.resolve(next.value.promise).then((value) => {\n",
              "    // Cache the last promise value to make it available to the next\n",
              "    // step of the generator.\n",
              "    outputElement.lastPromiseValue = value;\n",
              "    return next.value.response;\n",
              "  });\n",
              "}\n",
              "\n",
              "/**\n",
              " * Generator function which is called between each async step of the upload\n",
              " * process.\n",
              " * @param {string} inputId Element ID of the input file picker element.\n",
              " * @param {string} outputId Element ID of the output display.\n",
              " * @return {!Iterable<!Object>} Iterable of next steps.\n",
              " */\n",
              "function* uploadFilesStep(inputId, outputId) {\n",
              "  const inputElement = document.getElementById(inputId);\n",
              "  inputElement.disabled = false;\n",
              "\n",
              "  const outputElement = document.getElementById(outputId);\n",
              "  outputElement.innerHTML = '';\n",
              "\n",
              "  const pickedPromise = new Promise((resolve) => {\n",
              "    inputElement.addEventListener('change', (e) => {\n",
              "      resolve(e.target.files);\n",
              "    });\n",
              "  });\n",
              "\n",
              "  const cancel = document.createElement('button');\n",
              "  inputElement.parentElement.appendChild(cancel);\n",
              "  cancel.textContent = 'Cancel upload';\n",
              "  const cancelPromise = new Promise((resolve) => {\n",
              "    cancel.onclick = () => {\n",
              "      resolve(null);\n",
              "    };\n",
              "  });\n",
              "\n",
              "  // Wait for the user to pick the files.\n",
              "  const files = yield {\n",
              "    promise: Promise.race([pickedPromise, cancelPromise]),\n",
              "    response: {\n",
              "      action: 'starting',\n",
              "    }\n",
              "  };\n",
              "\n",
              "  cancel.remove();\n",
              "\n",
              "  // Disable the input element since further picks are not allowed.\n",
              "  inputElement.disabled = true;\n",
              "\n",
              "  if (!files) {\n",
              "    return {\n",
              "      response: {\n",
              "        action: 'complete',\n",
              "      }\n",
              "    };\n",
              "  }\n",
              "\n",
              "  for (const file of files) {\n",
              "    const li = document.createElement('li');\n",
              "    li.append(span(file.name, {fontWeight: 'bold'}));\n",
              "    li.append(span(\n",
              "        `(${file.type || 'n/a'}) - ${file.size} bytes, ` +\n",
              "        `last modified: ${\n",
              "            file.lastModifiedDate ? file.lastModifiedDate.toLocaleDateString() :\n",
              "                                    'n/a'} - `));\n",
              "    const percent = span('0% done');\n",
              "    li.appendChild(percent);\n",
              "\n",
              "    outputElement.appendChild(li);\n",
              "\n",
              "    const fileDataPromise = new Promise((resolve) => {\n",
              "      const reader = new FileReader();\n",
              "      reader.onload = (e) => {\n",
              "        resolve(e.target.result);\n",
              "      };\n",
              "      reader.readAsArrayBuffer(file);\n",
              "    });\n",
              "    // Wait for the data to be ready.\n",
              "    let fileData = yield {\n",
              "      promise: fileDataPromise,\n",
              "      response: {\n",
              "        action: 'continue',\n",
              "      }\n",
              "    };\n",
              "\n",
              "    // Use a chunked sending to avoid message size limits. See b/62115660.\n",
              "    let position = 0;\n",
              "    do {\n",
              "      const length = Math.min(fileData.byteLength - position, MAX_PAYLOAD_SIZE);\n",
              "      const chunk = new Uint8Array(fileData, position, length);\n",
              "      position += length;\n",
              "\n",
              "      const base64 = btoa(String.fromCharCode.apply(null, chunk));\n",
              "      yield {\n",
              "        response: {\n",
              "          action: 'append',\n",
              "          file: file.name,\n",
              "          data: base64,\n",
              "        },\n",
              "      };\n",
              "\n",
              "      let percentDone = fileData.byteLength === 0 ?\n",
              "          100 :\n",
              "          Math.round((position / fileData.byteLength) * 100);\n",
              "      percent.textContent = `${percentDone}% done`;\n",
              "\n",
              "    } while (position < fileData.byteLength);\n",
              "  }\n",
              "\n",
              "  // All done.\n",
              "  yield {\n",
              "    response: {\n",
              "      action: 'complete',\n",
              "    }\n",
              "  };\n",
              "}\n",
              "\n",
              "scope.google = scope.google || {};\n",
              "scope.google.colab = scope.google.colab || {};\n",
              "scope.google.colab._files = {\n",
              "  _uploadFiles,\n",
              "  _uploadFilesContinue,\n",
              "};\n",
              "})(self);\n",
              "</script> "
            ],
            "text/plain": [
              "<IPython.core.display.HTML object>"
            ]
          },
          "metadata": {},
          "output_type": "display_data"
        },
        {
          "name": "stdout",
          "output_type": "stream",
          "text": [
            "Saving Ulysses - James Joyce.txt to Ulysses - James Joyce.txt\n"
          ]
        }
      ],
      "source": [
        "from google.colab import files\n",
        "uploaded = files.upload()"
      ]
    },
    {
      "cell_type": "code",
      "execution_count": null,
      "metadata": {
        "colab": {
          "base_uri": "https://localhost:8080/"
        },
        "id": "KDUbReK7gbDF",
        "outputId": "54111ceb-d199-4741-d7f6-acb35acbfe4e"
      },
      "outputs": [
        {
          "name": "stdout",
          "output_type": "stream",
          "text": [
            "--2025-02-18 05:39:09--  http://nlp.stanford.edu/data/glove.6B.zip\n",
            "Resolving nlp.stanford.edu (nlp.stanford.edu)... 171.64.67.140\n",
            "Connecting to nlp.stanford.edu (nlp.stanford.edu)|171.64.67.140|:80... connected.\n",
            "HTTP request sent, awaiting response... 302 Found\n",
            "Location: https://nlp.stanford.edu/data/glove.6B.zip [following]\n",
            "--2025-02-18 05:39:09--  https://nlp.stanford.edu/data/glove.6B.zip\n",
            "Connecting to nlp.stanford.edu (nlp.stanford.edu)|171.64.67.140|:443... connected.\n",
            "HTTP request sent, awaiting response... 301 Moved Permanently\n",
            "Location: https://downloads.cs.stanford.edu/nlp/data/glove.6B.zip [following]\n",
            "--2025-02-18 05:39:09--  https://downloads.cs.stanford.edu/nlp/data/glove.6B.zip\n",
            "Resolving downloads.cs.stanford.edu (downloads.cs.stanford.edu)... 171.64.64.22\n",
            "Connecting to downloads.cs.stanford.edu (downloads.cs.stanford.edu)|171.64.64.22|:443... connected.\n",
            "HTTP request sent, awaiting response... 200 OK\n",
            "Length: 862182613 (822M) [application/zip]\n",
            "Saving to: ‘glove.6B.zip’\n",
            "\n",
            "glove.6B.zip        100%[===================>] 822.24M  4.82MB/s    in 2m 39s  \n",
            "\n",
            "2025-02-18 05:41:48 (5.16 MB/s) - ‘glove.6B.zip’ saved [862182613/862182613]\n",
            "\n",
            "Archive:  glove.6B.zip\n",
            "  inflating: glove.6B.50d.txt        \n",
            "  inflating: glove.6B.100d.txt       \n",
            "  inflating: glove.6B.200d.txt       \n",
            "  inflating: glove.6B.300d.txt       \n"
          ]
        }
      ],
      "source": [
        "!wget http://nlp.stanford.edu/data/glove.6B.zip\n",
        "!unzip glove.6B.zip"
      ]
    },
    {
      "cell_type": "code",
      "execution_count": null,
      "metadata": {
        "colab": {
          "base_uri": "https://localhost:8080/"
        },
        "id": "pHPNwK9ngXWp",
        "outputId": "cd989f55-026f-452e-f8aa-d6b0b5fc887f"
      },
      "outputs": [
        {
          "name": "stdout",
          "output_type": "stream",
          "text": [
            "Length of sentences: 22226\n",
            "Train size: 17780\n",
            "Validation size: 3333\n",
            "Test size: 1113\n"
          ]
        }
      ],
      "source": [
        "with open('/content/Ulysses - James Joyce.txt', 'r') as f:\n",
        "    corpus = f.read()\n",
        "\n",
        "corpus = preprocess(corpus)\n",
        "\n",
        "sentences, word_sentences = tokenize(corpus, 2)\n",
        "\n",
        "train_sentences, val_sentences, test_sentences = train_val_test_split(word_sentences)\n",
        "\n",
        "print(\"Train size:\", len(train_sentences))\n",
        "print(\"Validation size:\", len(val_sentences))\n",
        "print(\"Test size:\", len(test_sentences))"
      ]
    },
    {
      "cell_type": "code",
      "execution_count": null,
      "metadata": {
        "id": "eUGE1NQEgfUm"
      },
      "outputs": [],
      "source": [
        "glove = create_glove_embeddings('/content/glove.6B.100d.txt')\n",
        "\n",
        "embeddings, encoded_train, encoded_val, encoded_test, word_to_idx, vocab = create_embeddings_and_encode(train_sentences, val_sentences, test_sentences, glove)"
      ]
    },
    {
      "cell_type": "code",
      "execution_count": null,
      "metadata": {
        "colab": {
          "base_uri": "https://localhost:8080/"
        },
        "id": "1ML_hzW8gf6G",
        "outputId": "58904c41-2246-4eed-8259-9e2febdffdc1"
      },
      "outputs": [
        {
          "name": "stdout",
          "output_type": "stream",
          "text": [
            "Train dataset size: 17780\n",
            "Validation dataset size: 3333\n",
            "Test dataset size: 1113\n"
          ]
        }
      ],
      "source": [
        "# Step 1: Define the maximum sequence length\n",
        "MAX_SEQ_LENGTH = 30  # You can adjust this based on your memory constraints\n",
        "\n",
        "# Step 2: Truncate the sequences to the maximum length\n",
        "def truncate_sequences(sequences, max_length):\n",
        "    return [seq[:max_length] for seq in sequences]\n",
        "\n",
        "# Apply truncation to your data\n",
        "encoded_train = truncate_sequences(encoded_train, MAX_SEQ_LENGTH)\n",
        "encoded_val = truncate_sequences(encoded_val, MAX_SEQ_LENGTH)\n",
        "encoded_test = truncate_sequences(encoded_test, MAX_SEQ_LENGTH)\n",
        "\n",
        "# Step 3: Create the datasets using the truncated sequences\n",
        "pad_idx = word_to_idx['<PAD>']\n",
        "\n",
        "train_dataset = RNNDataset(encoded_train)\n",
        "val_dataset = RNNDataset(encoded_val)\n",
        "test_dataset = RNNDataset(encoded_test)\n",
        "\n",
        "# Step 4: DataLoader remains the same\n",
        "train_loader = DataLoader(train_dataset, batch_size=64, collate_fn=lambda batch: collate_fn(batch, pad_idx), shuffle=True)\n",
        "val_loader = DataLoader(val_dataset, batch_size=64, collate_fn=lambda batch: collate_fn(batch, pad_idx), shuffle=True)\n",
        "test_loader = DataLoader(test_dataset, batch_size=64, collate_fn=lambda batch: collate_fn(batch, pad_idx), shuffle=True)\n",
        "\n",
        "# Print dataset sizes\n",
        "print(f'Train dataset size: {len(train_dataset)}')\n",
        "print(f'Validation dataset size: {len(val_dataset)}')\n",
        "print(f'Test dataset size: {len(test_dataset)}')\n"
      ]
    },
    {
      "cell_type": "code",
      "execution_count": null,
      "metadata": {
        "id": "IUBDZNE7gi5y"
      },
      "outputs": [],
      "source": [
        "learning_rate = 0.001\n",
        "num_epochs = 10\n",
        "patience = 2\n",
        "model = RNN(embeddings, 300, 0.6, 3)\n",
        "criterion = nn.CrossEntropyLoss(ignore_index=pad_idx)\n",
        "optimizer = optim.Adam(model.parameters(), learning_rate,weight_decay=1e-4)"
      ]
    },
    {
      "cell_type": "code",
      "execution_count": null,
      "metadata": {
        "colab": {
          "base_uri": "https://localhost:8080/"
        },
        "id": "WRgxop8wgpCH",
        "outputId": "21b6ee5c-a3f5-4492-9048-dae5451ef1b0"
      },
      "outputs": [
        {
          "name": "stderr",
          "output_type": "stream",
          "text": [
            "100%|██████████| 278/278 [00:11<00:00, 24.84it/s]\n"
          ]
        },
        {
          "name": "stdout",
          "output_type": "stream",
          "text": [
            "Train Loss: 7.0277\n",
            "Train Perplexity: 1127.3984\n",
            "Val Loss: 6.1846\n",
            "Val Perplexity: 485.1961\n"
          ]
        },
        {
          "name": "stderr",
          "output_type": "stream",
          "text": [
            "100%|██████████| 278/278 [00:10<00:00, 27.10it/s]\n"
          ]
        },
        {
          "name": "stdout",
          "output_type": "stream",
          "text": [
            "Train Loss: 6.5840\n",
            "Train Perplexity: 723.4504\n",
            "Val Loss: 6.0142\n",
            "Val Perplexity: 409.2041\n"
          ]
        },
        {
          "name": "stderr",
          "output_type": "stream",
          "text": [
            "100%|██████████| 278/278 [00:10<00:00, 26.74it/s]\n"
          ]
        },
        {
          "name": "stdout",
          "output_type": "stream",
          "text": [
            "Train Loss: 6.4048\n",
            "Train Perplexity: 604.7437\n",
            "Val Loss: 5.8986\n",
            "Val Perplexity: 364.5115\n"
          ]
        },
        {
          "name": "stderr",
          "output_type": "stream",
          "text": [
            "100%|██████████| 278/278 [00:10<00:00, 26.40it/s]\n"
          ]
        },
        {
          "name": "stdout",
          "output_type": "stream",
          "text": [
            "Train Loss: 6.2710\n",
            "Train Perplexity: 529.0291\n",
            "Val Loss: 5.8302\n",
            "Val Perplexity: 340.4391\n"
          ]
        },
        {
          "name": "stderr",
          "output_type": "stream",
          "text": [
            "100%|██████████| 278/278 [00:10<00:00, 26.18it/s]\n"
          ]
        },
        {
          "name": "stdout",
          "output_type": "stream",
          "text": [
            "Train Loss: 6.1755\n",
            "Train Perplexity: 480.8091\n",
            "Val Loss: 5.7870\n",
            "Val Perplexity: 326.0424\n"
          ]
        },
        {
          "name": "stderr",
          "output_type": "stream",
          "text": [
            "100%|██████████| 278/278 [00:10<00:00, 26.03it/s]\n"
          ]
        },
        {
          "name": "stdout",
          "output_type": "stream",
          "text": [
            "Train Loss: 6.0975\n",
            "Train Perplexity: 444.7273\n",
            "Val Loss: 5.7471\n",
            "Val Perplexity: 313.2726\n"
          ]
        },
        {
          "name": "stderr",
          "output_type": "stream",
          "text": [
            "100%|██████████| 278/278 [00:10<00:00, 26.16it/s]\n"
          ]
        },
        {
          "name": "stdout",
          "output_type": "stream",
          "text": [
            "Train Loss: 6.0329\n",
            "Train Perplexity: 416.9249\n",
            "Val Loss: 5.7275\n",
            "Val Perplexity: 307.1981\n"
          ]
        },
        {
          "name": "stderr",
          "output_type": "stream",
          "text": [
            "100%|██████████| 278/278 [00:10<00:00, 26.05it/s]\n"
          ]
        },
        {
          "name": "stdout",
          "output_type": "stream",
          "text": [
            "Train Loss: 5.9795\n",
            "Train Perplexity: 395.2502\n",
            "Val Loss: 5.7244\n",
            "Val Perplexity: 306.2501\n"
          ]
        },
        {
          "name": "stderr",
          "output_type": "stream",
          "text": [
            "100%|██████████| 278/278 [00:10<00:00, 25.68it/s]\n"
          ]
        },
        {
          "name": "stdout",
          "output_type": "stream",
          "text": [
            "Train Loss: 5.9313\n",
            "Train Perplexity: 376.6302\n",
            "Val Loss: 5.7062\n",
            "Val Perplexity: 300.7333\n"
          ]
        },
        {
          "name": "stderr",
          "output_type": "stream",
          "text": [
            "100%|██████████| 278/278 [00:10<00:00, 25.40it/s]\n"
          ]
        },
        {
          "name": "stdout",
          "output_type": "stream",
          "text": [
            "Train Loss: 5.8946\n",
            "Train Perplexity: 363.0608\n",
            "Val Loss: 5.6817\n",
            "Val Perplexity: 293.4407\n"
          ]
        }
      ],
      "source": [
        "model = train_model(model, train_loader, val_loader, optimizer, criterion, num_epochs, patience)"
      ]
    },
    {
      "cell_type": "markdown",
      "metadata": {
        "id": "PlPfNSzlgses"
      },
      "source": [
        "Perplexity Scores"
      ]
    },
    {
      "cell_type": "code",
      "execution_count": null,
      "metadata": {
        "colab": {
          "base_uri": "https://localhost:8080/"
        },
        "id": "S0t9MF4rgr4U",
        "outputId": "9646da36-e519-409d-dafa-30303b88d51d"
      },
      "outputs": [
        {
          "name": "stdout",
          "output_type": "stream",
          "text": [
            "\n",
            "Train Loss: 5.488025901986541\n",
            "Train Perplexity: 241.77938842773438\n"
          ]
        }
      ],
      "source": [
        "loss, perplexity = test_model(model, train_loader, criterion, pad_idx)\n",
        "print(f'\\nTrain Loss: {loss}')\n",
        "print(f'Train Perplexity: {perplexity}')"
      ]
    },
    {
      "cell_type": "code",
      "execution_count": null,
      "metadata": {
        "colab": {
          "base_uri": "https://localhost:8080/"
        },
        "id": "10Xu2kKkgwcd",
        "outputId": "5b2ec2f2-a524-49d7-be28-023e76a8fabf"
      },
      "outputs": [
        {
          "name": "stdout",
          "output_type": "stream",
          "text": [
            "\n",
            "Val Loss: 5.685312190145816\n",
            "Val Perplexity: 294.5097961425781\n"
          ]
        }
      ],
      "source": [
        "loss, perplexity = test_model(model, val_loader, criterion, pad_idx)\n",
        "print(f'\\nVal Loss: {loss}')\n",
        "print(f'Val Perplexity: {perplexity}')"
      ]
    },
    {
      "cell_type": "code",
      "execution_count": null,
      "metadata": {
        "colab": {
          "base_uri": "https://localhost:8080/"
        },
        "id": "ikAYzVfsgyWO",
        "outputId": "04d2f83a-9832-4c95-cfe4-d966f3b1a939"
      },
      "outputs": [
        {
          "name": "stdout",
          "output_type": "stream",
          "text": [
            "\n",
            "Test Loss: 5.660770840115017\n",
            "Test Perplexity: 287.3700866699219\n"
          ]
        }
      ],
      "source": [
        "loss, perplexity = test_model(model, test_loader, criterion, pad_idx)\n",
        "print(f'\\nTest Loss: {loss}')\n",
        "print(f'Test Perplexity: {perplexity}')"
      ]
    },
    {
      "cell_type": "code",
      "execution_count": null,
      "metadata": {
        "colab": {
          "base_uri": "https://localhost:8080/"
        },
        "id": "gAkuKqEhg1EB",
        "outputId": "b17ee651-dc53-4119-d67f-a9884a994a22"
      },
      "outputs": [
        {
          "data": {
            "text/plain": [
              "450.8836490561699"
            ]
          },
          "execution_count": 26,
          "metadata": {},
          "output_type": "execute_result"
        }
      ],
      "source": [
        "save_perplexities_lstm(model, encoded_train, criterion, '2024201073_RNN_u_train_perplexity.txt', vocab)\n",
        "save_perplexities_lstm(model, encoded_val, criterion, '2024201073_RNN_u_val_perplexity.txt', vocab)\n",
        "save_perplexities_lstm(model, encoded_test, criterion, '2024201073_RNN_u_test_perplexity.txt', vocab)"
      ]
    },
    {
      "cell_type": "code",
      "execution_count": null,
      "metadata": {
        "colab": {
          "base_uri": "https://localhost:8080/"
        },
        "id": "-1dD7tvNg8FS",
        "outputId": "9a85e6d0-9587-4b64-fbfc-e3c4dd79f15a"
      },
      "outputs": [
        {
          "name": "stdout",
          "output_type": "stream",
          "text": [
            "Data saved successfully!\n"
          ]
        }
      ],
      "source": [
        "import pickle\n",
        "\n",
        "with open('data_store_rnn_u.pkl', 'wb') as f:\n",
        "    pickle.dump({\n",
        "        'embeddings': embeddings,\n",
        "        'vocab': vocab,\n",
        "        'word_to_idx': word_to_idx,\n",
        "        'encoded_train': encoded_train,\n",
        "        'encoded_val': encoded_val,\n",
        "        'encoded_test': encoded_test,\n",
        "    }, f)\n",
        "\n",
        "print(\"Data saved successfully!\")"
      ]
    },
    {
      "cell_type": "code",
      "execution_count": null,
      "metadata": {
        "id": "a3eIVap9n_yL"
      },
      "outputs": [],
      "source": []
    }
  ],
  "metadata": {
    "colab": {
      "provenance": []
    },
    "kernelspec": {
      "display_name": "Python 3",
      "name": "python3"
    },
    "language_info": {
      "name": "python"
    }
  },
  "nbformat": 4,
  "nbformat_minor": 0
}
