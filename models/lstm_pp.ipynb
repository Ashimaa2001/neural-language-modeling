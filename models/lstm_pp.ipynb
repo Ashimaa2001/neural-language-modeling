{
  "cells": [
    {
      "cell_type": "code",
      "execution_count": 1,
      "metadata": {
        "id": "PZw1p0kjP21C"
      },
      "outputs": [],
      "source": [
        "import torch\n",
        "from torch import nn, optim\n",
        "from torch.utils.data import DataLoader, Dataset\n",
        "import torch.nn.functional as F\n",
        "import numpy as np\n",
        "import re\n",
        "import nltk\n",
        "from nltk.tokenize import sent_tokenize, word_tokenize\n",
        "import random\n",
        "import time\n",
        "from sklearn.metrics import accuracy_score, precision_recall_fscore_support\n",
        "from tqdm import tqdm\n",
        "from torch.nn.utils.rnn import pad_sequence"
      ]
    },
    {
      "cell_type": "code",
      "execution_count": 2,
      "metadata": {
        "colab": {
          "base_uri": "https://localhost:8080/"
        },
        "id": "mqyOnAaRP65M",
        "outputId": "6f26d930-08f5-4ee4-d106-f2b2234e231c"
      },
      "outputs": [
        {
          "name": "stderr",
          "output_type": "stream",
          "text": [
            "[nltk_data] Downloading package punkt to /root/nltk_data...\n",
            "[nltk_data]   Unzipping tokenizers/punkt.zip.\n",
            "[nltk_data] Downloading package punkt_tab to /root/nltk_data...\n",
            "[nltk_data]   Unzipping tokenizers/punkt_tab.zip.\n"
          ]
        },
        {
          "data": {
            "text/plain": [
              "True"
            ]
          },
          "execution_count": 2,
          "metadata": {},
          "output_type": "execute_result"
        }
      ],
      "source": [
        "nltk.download('punkt')\n",
        "nltk.download('punkt_tab')"
      ]
    },
    {
      "cell_type": "markdown",
      "metadata": {
        "id": "qMHK799fP_-x"
      },
      "source": [
        "PreProcessing"
      ]
    },
    {
      "cell_type": "code",
      "execution_count": 3,
      "metadata": {
        "id": "72KYztL1QCFo"
      },
      "outputs": [],
      "source": [
        "\n",
        "def preprocess(data):\n",
        "    data = re.sub(r'\\n|\\s+', ' ', data) #newline and multiple spaces -> single space\n",
        "    data = re.sub(r'[’‘]', '\\'', data) #apostrophes\n",
        "    data = re.sub(r'[“”`\\' ]|[–—-]', ' ', data) #quotes and dashes\n",
        "    data = re.sub(r'(?<!\\w)([.!?])(?!\\w)', r' \\1 ', data) #dont remove punctuation\n",
        "    data = re.sub(r'[™•]', ' ', data) #remove other unwanted symbols\n",
        "    return data.strip() #strip extra spaces"
      ]
    },
    {
      "cell_type": "markdown",
      "metadata": {
        "id": "l3zie1dMQHtP"
      },
      "source": [
        "Tokenization"
      ]
    },
    {
      "cell_type": "code",
      "execution_count": 4,
      "metadata": {
        "id": "K5NkZkUrQEhN"
      },
      "outputs": [],
      "source": [
        "def tokenize(data, min_length_sentences):\n",
        "    sentences = sent_tokenize(data)\n",
        "    sentences = [sentence for sentence in sentences if len(sentence.split()) >= min_length_sentences]\n",
        "\n",
        "    print(\"Length of sentences:\", len(sentences))\n",
        "\n",
        "    words_sentences = []\n",
        "\n",
        "    for sentence in sentences:\n",
        "        words = word_tokenize(sentence)\n",
        "        words = [word.lower() for word in words if word.lower() not in ['.', ',', '!', '?', ';', ':']]\n",
        "        words = ['<s>'] + words + ['</s>']\n",
        "        words_sentences.append(words)\n",
        "\n",
        "    return sentences, words_sentences"
      ]
    },
    {
      "cell_type": "markdown",
      "metadata": {
        "id": "ipxloaYCQKGv"
      },
      "source": [
        "Data Preparations"
      ]
    },
    {
      "cell_type": "code",
      "execution_count": 64,
      "metadata": {
        "id": "G9YlMNBjQGzx"
      },
      "outputs": [],
      "source": [
        "def train_val_test_split(sentences, train_ratio=0.7, val_ratio=0.125, seed=None, num_shuffles=1):\n",
        "    if seed is not None:\n",
        "        random.seed(seed)\n",
        "\n",
        "    for _ in range(num_shuffles):\n",
        "        random.shuffle(sentences)\n",
        "\n",
        "    total_sentences = len(sentences)\n",
        "\n",
        "    train_size = int(total_sentences * train_ratio)\n",
        "    val_size = int(total_sentences * val_ratio)\n",
        "    test_size = total_sentences - train_size - val_size\n",
        "\n",
        "    train_sentences = sentences[:train_size]\n",
        "    val_sentences = sentences[train_size:train_size + val_size]\n",
        "    test_sentences = sentences[train_size + val_size:]\n",
        "\n",
        "    return train_sentences, val_sentences, test_sentences"
      ]
    },
    {
      "cell_type": "markdown",
      "metadata": {
        "id": "PWRk0izoQPzf"
      },
      "source": [
        "Load Glove Embeddings"
      ]
    },
    {
      "cell_type": "code",
      "execution_count": 65,
      "metadata": {
        "id": "0tY4JTkCQNrS"
      },
      "outputs": [],
      "source": [
        "def create_glove_embeddings(glove_path):\n",
        "    glove = {}\n",
        "    embedding_dim = 0\n",
        "\n",
        "    with open(glove_path, 'r') as f:\n",
        "        for line in f:\n",
        "            values = line.split()\n",
        "            word = values[0]\n",
        "            vector = torch.tensor([float(val) for val in values[1:]])\n",
        "            glove[word] = vector\n",
        "            embedding_dim = len(values[1:])\n",
        "\n",
        "    glove['<UNK>'] = torch.mean(torch.stack(list(glove.values())), dim=0)\n",
        "    glove['<PAD>'] = torch.zeros(embedding_dim)\n",
        "    glove['<s>'] = torch.rand(embedding_dim)\n",
        "    glove['</s>'] = torch.rand(embedding_dim)\n",
        "\n",
        "    return glove"
      ]
    },
    {
      "cell_type": "markdown",
      "metadata": {
        "id": "7b_7Y_lwQmjq"
      },
      "source": [
        "Creation of Vocab and Embeddings"
      ]
    },
    {
      "cell_type": "code",
      "execution_count": 66,
      "metadata": {
        "id": "LsnuzMBXQSuH"
      },
      "outputs": [],
      "source": [
        "def create_embeddings_and_encode(train_sentences, val_sentences, test_sentences, glove):\n",
        "    embedding_dim = len(list(glove.values())[0])\n",
        "    vocab = set()\n",
        "\n",
        "    vocab.update(['<UNK>', '<PAD>', '<s>', '</s>'])\n",
        "    for sentence in train_sentences:\n",
        "        for word in sentence:\n",
        "            if word in glove:\n",
        "                vocab.add(word)\n",
        "            else:\n",
        "                sentence[sentence.index(word)] = '<UNK>'\n",
        "\n",
        "    embeddings = np.zeros((len(vocab), embedding_dim))\n",
        "    word_to_idx = {word: idx for idx, word in enumerate(vocab)}\n",
        "\n",
        "    for word in vocab:\n",
        "        if word in glove:\n",
        "            embeddings[word_to_idx[word]] = glove[word]\n",
        "        else:\n",
        "            embeddings[word_to_idx[word]] = np.random.rand(embedding_dim)\n",
        "\n",
        "    def encode_sentences(sentences, word_to_idx):\n",
        "        encoded_sentences = []\n",
        "        for sentence in sentences:\n",
        "            encoded_sentence = [word_to_idx[word] if word in word_to_idx else word_to_idx['<UNK>'] for word in sentence]\n",
        "            encoded_sentences.append(encoded_sentence)\n",
        "        return encoded_sentences\n",
        "\n",
        "    encoded_train_sentences = encode_sentences(train_sentences, word_to_idx)\n",
        "    encoded_val_sentences = encode_sentences(val_sentences, word_to_idx)\n",
        "    encoded_test_sentences = encode_sentences(test_sentences, word_to_idx)\n",
        "\n",
        "    return torch.FloatTensor(embeddings), encoded_train_sentences, encoded_val_sentences, encoded_test_sentences, word_to_idx, list(vocab)"
      ]
    },
    {
      "cell_type": "markdown",
      "metadata": {
        "id": "l0nCyg9yQsgx"
      },
      "source": [
        "Dataset for training LSTM"
      ]
    },
    {
      "cell_type": "code",
      "execution_count": 67,
      "metadata": {
        "id": "xFsumELsQpwI"
      },
      "outputs": [],
      "source": [
        "class LSTMDataset(Dataset):\n",
        "    def __init__(self, data):\n",
        "        self.data = data\n",
        "\n",
        "    def __len__(self):\n",
        "        return len(self.data)\n",
        "\n",
        "    def __getitem__(self, idx):\n",
        "        sentence = self.data[idx]\n",
        "        input_sentence = torch.tensor(sentence[:-1], dtype=torch.long)\n",
        "        target = torch.tensor(sentence[1:], dtype=torch.long)\n",
        "        return input_sentence, target"
      ]
    },
    {
      "cell_type": "code",
      "execution_count": 68,
      "metadata": {
        "id": "YzFLOiS_Qu_h"
      },
      "outputs": [],
      "source": [
        "def collate_fn(batch, pad_idx):\n",
        "    input_sentences, targets = zip(*batch)\n",
        "    input_sentences = pad_sequence(input_sentences, batch_first=True, padding_value=pad_idx)\n",
        "    targets = pad_sequence(targets, batch_first=True, padding_value=pad_idx)\n",
        "    return input_sentences, targets"
      ]
    },
    {
      "cell_type": "markdown",
      "metadata": {
        "id": "sNQbPqexQzoT"
      },
      "source": [
        "LSTM"
      ]
    },
    {
      "cell_type": "code",
      "execution_count": 69,
      "metadata": {
        "id": "X5NLZXQzQxNq"
      },
      "outputs": [],
      "source": [
        "class LSTM(nn.Module):\n",
        "    def __init__(self, embeddings, hidden_dim, dropout, num_layers=1):\n",
        "        super(LSTM, self).__init__()\n",
        "        # freeze embeddings\n",
        "        self.embeddings = nn.Embedding.from_pretrained(embeddings, freeze=True)\n",
        "        self.vocab_size = embeddings.shape[0]\n",
        "        self.embedding_dim = embeddings.shape[1]\n",
        "        self.hidden_dim = hidden_dim\n",
        "        self.num_layers = num_layers\n",
        "        self.dropout = dropout\n",
        "        self.lstm = nn.LSTM(input_size=self.embedding_dim, hidden_size=self.hidden_dim, num_layers=self.num_layers, dropout=self.dropout, batch_first=True)\n",
        "        self.fc1 = nn.Linear(self.hidden_dim, self.vocab_size)\n",
        "        self.dropout = nn.Dropout(self.dropout)\n",
        "\n",
        "    def forward(self, input_seq, hidden=None):\n",
        "        input_seq = self.embeddings(input_seq)\n",
        "\n",
        "        if hidden is None:\n",
        "            lstm_out, hidden = self.lstm(input_seq)\n",
        "        else:\n",
        "            lstm_out, hidden = self.lstm(input_seq, hidden)\n",
        "\n",
        "        return self.fc1(self.dropout(lstm_out)), hidden"
      ]
    },
    {
      "cell_type": "markdown",
      "metadata": {
        "id": "4MYj6fkgQ318"
      },
      "source": [
        "Model Testing"
      ]
    },
    {
      "cell_type": "code",
      "execution_count": 70,
      "metadata": {
        "id": "dnBscpviQ1BF"
      },
      "outputs": [],
      "source": [
        "def test_model(model, val_loader, criterion, pad_idx):\n",
        "    model.eval()\n",
        "    total_loss = 0\n",
        "    hidden = None\n",
        "\n",
        "    with torch.no_grad():\n",
        "        for x, y in val_loader:\n",
        "            x, y = x.to(device), y.to(device)\n",
        "            batch_size = x.size(0)\n",
        "\n",
        "            if hidden is not None and batch_size != hidden[0].size(1):\n",
        "                hidden = None\n",
        "\n",
        "            output, hidden = model(x, hidden)\n",
        "            loss = criterion(output.view(-1, output.shape[2]), y.view(-1))\n",
        "            total_loss += loss.item()\n",
        "\n",
        "            if hidden is not None:\n",
        "                hidden = (hidden[0].detach(), hidden[1].detach())\n",
        "\n",
        "    avg_val_loss = total_loss / len(val_loader)\n",
        "    val_perplexity = torch.exp(torch.tensor(avg_val_loss))\n",
        "    return avg_val_loss, val_perplexity"
      ]
    },
    {
      "cell_type": "markdown",
      "metadata": {
        "id": "F3wjprwrQ-Kz"
      },
      "source": [
        "Train Model"
      ]
    },
    {
      "cell_type": "code",
      "execution_count": 71,
      "metadata": {
        "id": "PDV1qBLFQ5xm"
      },
      "outputs": [],
      "source": [
        "\n",
        "def train_model(model, train_loader, val_loader, optimizer, criterion, num_epochs, patience=2, pad_idx=0):\n",
        "    model.to(device)\n",
        "    early_stopping_counter = 0\n",
        "    best_val_loss = float('inf')\n",
        "\n",
        "    for epoch in range(num_epochs):\n",
        "        model.train()\n",
        "        total_loss = 0\n",
        "        hidden = None\n",
        "\n",
        "        for x, y in tqdm(train_loader):\n",
        "            x, y = x.to(device), y.to(device)\n",
        "            batch_size = x.size(0)\n",
        "\n",
        "            if hidden is not None and batch_size != hidden[0].size(1):\n",
        "                hidden = None\n",
        "\n",
        "            optimizer.zero_grad()\n",
        "            output, hidden = model(x, hidden)\n",
        "            loss = criterion(output.view(-1, output.shape[2]), y.view(-1))\n",
        "            loss.backward()\n",
        "            optimizer.step()\n",
        "\n",
        "            total_loss += loss.item()\n",
        "\n",
        "            if hidden is not None:\n",
        "                hidden = (hidden[0].detach(), hidden[1].detach())\n",
        "\n",
        "        avg_train_loss = total_loss / len(train_loader)\n",
        "        perplexity = torch.exp(torch.tensor(avg_train_loss))\n",
        "\n",
        "        print(f'Train Loss: {avg_train_loss:.4f}')\n",
        "        print(f'Train Perplexity: {perplexity:.4f}')\n",
        "\n",
        "        avg_val_loss, val_perplexity = test_model(model, val_loader, criterion, pad_idx)\n",
        "\n",
        "        print(f'Val Loss: {avg_val_loss:.4f}')\n",
        "        print(f'Val Perplexity: {val_perplexity:.4f}')\n",
        "\n",
        "        # check for early stopping\n",
        "        if avg_val_loss < best_val_loss:\n",
        "            best_val_loss = avg_val_loss\n",
        "            early_stopping_counter = 0\n",
        "            torch.save(model.state_dict(), '2024201073_LSTM.pt')\n",
        "        else:\n",
        "            early_stopping_counter += 1\n",
        "            if early_stopping_counter >= patience:\n",
        "                print(f'Early stopping at epoch {epoch + 1}')\n",
        "                break\n",
        "\n",
        "    return model"
      ]
    },
    {
      "cell_type": "markdown",
      "metadata": {
        "id": "AjwY_ffRRE28"
      },
      "source": [
        "Save perplexities in files"
      ]
    },
    {
      "cell_type": "code",
      "execution_count": 72,
      "metadata": {
        "id": "BrQobV8MQ_yl"
      },
      "outputs": [],
      "source": [
        "def save_perplexities_lstm(model, sentences, criterion, filename, idx_to_word):\n",
        "    model.eval()\n",
        "    total_loss = 0\n",
        "    all_sentences = []\n",
        "    perplexity_scores = []\n",
        "\n",
        "    with torch.no_grad():\n",
        "        for sentence in sentences:\n",
        "            sentence_loss = 0\n",
        "            sentence_length = 0\n",
        "            input_indices = sentence[:-1]\n",
        "            target_indices = sentence[1:]\n",
        "\n",
        "            input_tensor = torch.tensor(input_indices, dtype=torch.long).unsqueeze(0).to(device)\n",
        "            targets = torch.tensor(target_indices, dtype=torch.long).to(device)\n",
        "            outputs, _ = model(input_tensor)\n",
        "\n",
        "            for i in range(outputs.shape[1]):\n",
        "                output = outputs[0, i]\n",
        "                target_word = targets[i]\n",
        "\n",
        "                loss = criterion(output.unsqueeze(0), target_word.unsqueeze(0))\n",
        "                sentence_loss += loss.item()\n",
        "                sentence_length += 1\n",
        "\n",
        "            avg_loss_per_sentence = sentence_loss / sentence_length\n",
        "            sentence_perplexity = torch.exp(torch.tensor(avg_loss_per_sentence)).item()\n",
        "            perplexity_scores.append(sentence_perplexity)\n",
        "\n",
        "            sentence_words = [idx_to_word[idx] for idx in sentence]\n",
        "            full_sentence = \" \".join(sentence_words)\n",
        "            all_sentences.append(full_sentence)\n",
        "\n",
        "        avg_perplexity = sum(perplexity_scores) / len(perplexity_scores)\n",
        "\n",
        "    with open(filename, 'w') as f:\n",
        "        for i, sentence in enumerate(all_sentences):\n",
        "            f.write(f\"{sentence}\\t{perplexity_scores[i]:.4f}\\n\")\n",
        "\n",
        "        f.write(f\"Average\\t{avg_perplexity:.4f}\\n\")\n",
        "\n",
        "    return avg_perplexity"
      ]
    },
    {
      "cell_type": "code",
      "execution_count": 73,
      "metadata": {
        "id": "T0UKmRVeRI_y"
      },
      "outputs": [],
      "source": [
        "def save_model(model, path):\n",
        "    torch.save(model.state_dict(), path)\n",
        "    print(f\"Model saved to {path}\")"
      ]
    },
    {
      "cell_type": "markdown",
      "metadata": {
        "id": "HK6rm7flRN-q"
      },
      "source": [
        "Running the model"
      ]
    },
    {
      "cell_type": "code",
      "execution_count": 74,
      "metadata": {
        "colab": {
          "base_uri": "https://localhost:8080/"
        },
        "id": "mNobwqyORLbG",
        "outputId": "5d8dcbbc-bb2c-4f64-8b5c-0e3adb4be508"
      },
      "outputs": [
        {
          "name": "stdout",
          "output_type": "stream",
          "text": [
            "cuda\n"
          ]
        }
      ],
      "source": [
        "device = torch.device(\"cuda\" if torch.cuda.is_available() else \"cpu\")\n",
        "print(device)"
      ]
    },
    {
      "cell_type": "code",
      "execution_count": 75,
      "metadata": {
        "colab": {
          "base_uri": "https://localhost:8080/",
          "height": 37
        },
        "id": "Z9lQvTbERhS-",
        "outputId": "fdc18439-c7a2-4b5c-bcdc-22ec8bba9c61"
      },
      "outputs": [
        {
          "data": {
            "text/html": [
              "\n",
              "     <input type=\"file\" id=\"files-34e971da-1790-400f-9cd5-3b18962a7eb6\" name=\"files[]\" multiple disabled\n",
              "        style=\"border:none\" />\n",
              "     <output id=\"result-34e971da-1790-400f-9cd5-3b18962a7eb6\">\n",
              "      Upload widget is only available when the cell has been executed in the\n",
              "      current browser session. Please rerun this cell to enable.\n",
              "      </output>\n",
              "      <script>// Copyright 2017 Google LLC\n",
              "//\n",
              "// Licensed under the Apache License, Version 2.0 (the \"License\");\n",
              "// you may not use this file except in compliance with the License.\n",
              "// You may obtain a copy of the License at\n",
              "//\n",
              "//      http://www.apache.org/licenses/LICENSE-2.0\n",
              "//\n",
              "// Unless required by applicable law or agreed to in writing, software\n",
              "// distributed under the License is distributed on an \"AS IS\" BASIS,\n",
              "// WITHOUT WARRANTIES OR CONDITIONS OF ANY KIND, either express or implied.\n",
              "// See the License for the specific language governing permissions and\n",
              "// limitations under the License.\n",
              "\n",
              "/**\n",
              " * @fileoverview Helpers for google.colab Python module.\n",
              " */\n",
              "(function(scope) {\n",
              "function span(text, styleAttributes = {}) {\n",
              "  const element = document.createElement('span');\n",
              "  element.textContent = text;\n",
              "  for (const key of Object.keys(styleAttributes)) {\n",
              "    element.style[key] = styleAttributes[key];\n",
              "  }\n",
              "  return element;\n",
              "}\n",
              "\n",
              "// Max number of bytes which will be uploaded at a time.\n",
              "const MAX_PAYLOAD_SIZE = 100 * 1024;\n",
              "\n",
              "function _uploadFiles(inputId, outputId) {\n",
              "  const steps = uploadFilesStep(inputId, outputId);\n",
              "  const outputElement = document.getElementById(outputId);\n",
              "  // Cache steps on the outputElement to make it available for the next call\n",
              "  // to uploadFilesContinue from Python.\n",
              "  outputElement.steps = steps;\n",
              "\n",
              "  return _uploadFilesContinue(outputId);\n",
              "}\n",
              "\n",
              "// This is roughly an async generator (not supported in the browser yet),\n",
              "// where there are multiple asynchronous steps and the Python side is going\n",
              "// to poll for completion of each step.\n",
              "// This uses a Promise to block the python side on completion of each step,\n",
              "// then passes the result of the previous step as the input to the next step.\n",
              "function _uploadFilesContinue(outputId) {\n",
              "  const outputElement = document.getElementById(outputId);\n",
              "  const steps = outputElement.steps;\n",
              "\n",
              "  const next = steps.next(outputElement.lastPromiseValue);\n",
              "  return Promise.resolve(next.value.promise).then((value) => {\n",
              "    // Cache the last promise value to make it available to the next\n",
              "    // step of the generator.\n",
              "    outputElement.lastPromiseValue = value;\n",
              "    return next.value.response;\n",
              "  });\n",
              "}\n",
              "\n",
              "/**\n",
              " * Generator function which is called between each async step of the upload\n",
              " * process.\n",
              " * @param {string} inputId Element ID of the input file picker element.\n",
              " * @param {string} outputId Element ID of the output display.\n",
              " * @return {!Iterable<!Object>} Iterable of next steps.\n",
              " */\n",
              "function* uploadFilesStep(inputId, outputId) {\n",
              "  const inputElement = document.getElementById(inputId);\n",
              "  inputElement.disabled = false;\n",
              "\n",
              "  const outputElement = document.getElementById(outputId);\n",
              "  outputElement.innerHTML = '';\n",
              "\n",
              "  const pickedPromise = new Promise((resolve) => {\n",
              "    inputElement.addEventListener('change', (e) => {\n",
              "      resolve(e.target.files);\n",
              "    });\n",
              "  });\n",
              "\n",
              "  const cancel = document.createElement('button');\n",
              "  inputElement.parentElement.appendChild(cancel);\n",
              "  cancel.textContent = 'Cancel upload';\n",
              "  const cancelPromise = new Promise((resolve) => {\n",
              "    cancel.onclick = () => {\n",
              "      resolve(null);\n",
              "    };\n",
              "  });\n",
              "\n",
              "  // Wait for the user to pick the files.\n",
              "  const files = yield {\n",
              "    promise: Promise.race([pickedPromise, cancelPromise]),\n",
              "    response: {\n",
              "      action: 'starting',\n",
              "    }\n",
              "  };\n",
              "\n",
              "  cancel.remove();\n",
              "\n",
              "  // Disable the input element since further picks are not allowed.\n",
              "  inputElement.disabled = true;\n",
              "\n",
              "  if (!files) {\n",
              "    return {\n",
              "      response: {\n",
              "        action: 'complete',\n",
              "      }\n",
              "    };\n",
              "  }\n",
              "\n",
              "  for (const file of files) {\n",
              "    const li = document.createElement('li');\n",
              "    li.append(span(file.name, {fontWeight: 'bold'}));\n",
              "    li.append(span(\n",
              "        `(${file.type || 'n/a'}) - ${file.size} bytes, ` +\n",
              "        `last modified: ${\n",
              "            file.lastModifiedDate ? file.lastModifiedDate.toLocaleDateString() :\n",
              "                                    'n/a'} - `));\n",
              "    const percent = span('0% done');\n",
              "    li.appendChild(percent);\n",
              "\n",
              "    outputElement.appendChild(li);\n",
              "\n",
              "    const fileDataPromise = new Promise((resolve) => {\n",
              "      const reader = new FileReader();\n",
              "      reader.onload = (e) => {\n",
              "        resolve(e.target.result);\n",
              "      };\n",
              "      reader.readAsArrayBuffer(file);\n",
              "    });\n",
              "    // Wait for the data to be ready.\n",
              "    let fileData = yield {\n",
              "      promise: fileDataPromise,\n",
              "      response: {\n",
              "        action: 'continue',\n",
              "      }\n",
              "    };\n",
              "\n",
              "    // Use a chunked sending to avoid message size limits. See b/62115660.\n",
              "    let position = 0;\n",
              "    do {\n",
              "      const length = Math.min(fileData.byteLength - position, MAX_PAYLOAD_SIZE);\n",
              "      const chunk = new Uint8Array(fileData, position, length);\n",
              "      position += length;\n",
              "\n",
              "      const base64 = btoa(String.fromCharCode.apply(null, chunk));\n",
              "      yield {\n",
              "        response: {\n",
              "          action: 'append',\n",
              "          file: file.name,\n",
              "          data: base64,\n",
              "        },\n",
              "      };\n",
              "\n",
              "      let percentDone = fileData.byteLength === 0 ?\n",
              "          100 :\n",
              "          Math.round((position / fileData.byteLength) * 100);\n",
              "      percent.textContent = `${percentDone}% done`;\n",
              "\n",
              "    } while (position < fileData.byteLength);\n",
              "  }\n",
              "\n",
              "  // All done.\n",
              "  yield {\n",
              "    response: {\n",
              "      action: 'complete',\n",
              "    }\n",
              "  };\n",
              "}\n",
              "\n",
              "scope.google = scope.google || {};\n",
              "scope.google.colab = scope.google.colab || {};\n",
              "scope.google.colab._files = {\n",
              "  _uploadFiles,\n",
              "  _uploadFilesContinue,\n",
              "};\n",
              "})(self);\n",
              "</script> "
            ],
            "text/plain": [
              "<IPython.core.display.HTML object>"
            ]
          },
          "metadata": {},
          "output_type": "display_data"
        }
      ],
      "source": [
        "from google.colab import files\n",
        "uploaded = files.upload()"
      ]
    },
    {
      "cell_type": "code",
      "execution_count": 76,
      "metadata": {
        "colab": {
          "base_uri": "https://localhost:8080/"
        },
        "id": "3cSnIt_KRQUS",
        "outputId": "dbd5c2f3-e5d8-4817-e2f1-d112e15f0438"
      },
      "outputs": [
        {
          "name": "stdout",
          "output_type": "stream",
          "text": [
            "Length of sentences: 6085\n",
            "Train size: 4259\n",
            "Validation size: 760\n",
            "Test size: 1066\n"
          ]
        }
      ],
      "source": [
        "with open('/content/Pride and Prejudice - Jane Austen.txt', 'r') as f:\n",
        "    corpus = f.read()\n",
        "\n",
        "corpus = preprocess(corpus)\n",
        "\n",
        "sentences, word_sentences = tokenize(corpus, 2)\n",
        "\n",
        "train_sentences, val_sentences, test_sentences = train_val_test_split(word_sentences)\n",
        "\n",
        "print(\"Train size:\", len(train_sentences))\n",
        "print(\"Validation size:\", len(val_sentences))\n",
        "print(\"Test size:\", len(test_sentences))"
      ]
    },
    {
      "cell_type": "code",
      "execution_count": 18,
      "metadata": {
        "colab": {
          "base_uri": "https://localhost:8080/"
        },
        "id": "HXJ4EKURSTpf",
        "outputId": "f39fefa2-3f71-4ccf-c834-1ba62ad3d3b8"
      },
      "outputs": [
        {
          "name": "stdout",
          "output_type": "stream",
          "text": [
            "--2025-02-17 15:22:01--  http://nlp.stanford.edu/data/glove.6B.zip\n",
            "Resolving nlp.stanford.edu (nlp.stanford.edu)... 171.64.67.140\n",
            "Connecting to nlp.stanford.edu (nlp.stanford.edu)|171.64.67.140|:80... connected.\n",
            "HTTP request sent, awaiting response... 302 Found\n",
            "Location: https://nlp.stanford.edu/data/glove.6B.zip [following]\n",
            "--2025-02-17 15:22:01--  https://nlp.stanford.edu/data/glove.6B.zip\n",
            "Connecting to nlp.stanford.edu (nlp.stanford.edu)|171.64.67.140|:443... connected.\n",
            "HTTP request sent, awaiting response... 301 Moved Permanently\n",
            "Location: https://downloads.cs.stanford.edu/nlp/data/glove.6B.zip [following]\n",
            "--2025-02-17 15:22:01--  https://downloads.cs.stanford.edu/nlp/data/glove.6B.zip\n",
            "Resolving downloads.cs.stanford.edu (downloads.cs.stanford.edu)... 171.64.64.22\n",
            "Connecting to downloads.cs.stanford.edu (downloads.cs.stanford.edu)|171.64.64.22|:443... connected.\n",
            "HTTP request sent, awaiting response... 200 OK\n",
            "Length: 862182613 (822M) [application/zip]\n",
            "Saving to: ‘glove.6B.zip’\n",
            "\n",
            "glove.6B.zip        100%[===================>] 822.24M  5.00MB/s    in 2m 39s  \n",
            "\n",
            "2025-02-17 15:24:40 (5.17 MB/s) - ‘glove.6B.zip’ saved [862182613/862182613]\n",
            "\n",
            "Archive:  glove.6B.zip\n",
            "  inflating: glove.6B.50d.txt        \n",
            "  inflating: glove.6B.100d.txt       \n",
            "  inflating: glove.6B.200d.txt       \n",
            "  inflating: glove.6B.300d.txt       \n"
          ]
        }
      ],
      "source": [
        "!wget http://nlp.stanford.edu/data/glove.6B.zip\n",
        "!unzip glove.6B.zip"
      ]
    },
    {
      "cell_type": "code",
      "execution_count": 77,
      "metadata": {
        "id": "A1uqbkO5RxP0"
      },
      "outputs": [],
      "source": [
        "glove = create_glove_embeddings('/content/glove.6B.100d.txt')\n",
        "\n",
        "embeddings, encoded_train, encoded_val, encoded_test, word_to_idx, vocab = create_embeddings_and_encode(train_sentences, val_sentences, test_sentences, glove)"
      ]
    },
    {
      "cell_type": "code",
      "execution_count": 78,
      "metadata": {
        "colab": {
          "base_uri": "https://localhost:8080/"
        },
        "id": "pykYX8mPSRUZ",
        "outputId": "8e2692df-e9aa-4509-ae0e-3aebc859e989"
      },
      "outputs": [
        {
          "name": "stdout",
          "output_type": "stream",
          "text": [
            "Train dataset size: 4259\n",
            "Validation dataset size: 760\n",
            "Test dataset size: 1066\n"
          ]
        }
      ],
      "source": [
        "pad_idx = word_to_idx['<PAD>']\n",
        "\n",
        "train_dataset = LSTMDataset(encoded_train)\n",
        "val_dataset = LSTMDataset(encoded_val)\n",
        "test_dataset = LSTMDataset(encoded_test)\n",
        "\n",
        "train_loader = DataLoader(train_dataset, batch_size=64, collate_fn=lambda batch: collate_fn(batch, pad_idx), shuffle=True)\n",
        "val_loader = DataLoader(val_dataset, batch_size=64, collate_fn=lambda batch: collate_fn(batch, pad_idx), shuffle=True)\n",
        "test_loader = DataLoader(test_dataset, batch_size=64, collate_fn=lambda batch: collate_fn(batch, pad_idx), shuffle=True)\n",
        "\n",
        "print(f'Train dataset size: {len(train_dataset)}')\n",
        "print(f'Validation dataset size: {len(val_dataset)}')\n",
        "print(f'Test dataset size: {len(test_dataset)}')"
      ]
    },
    {
      "cell_type": "code",
      "execution_count": 133,
      "metadata": {
        "id": "jJuNdDyhSsMs"
      },
      "outputs": [],
      "source": [
        "learning_rate = 0.001\n",
        "num_epochs = 30\n",
        "patience = 3\n",
        "model = LSTM(embeddings, 300, 0.6, 2)\n",
        "criterion = nn.CrossEntropyLoss(ignore_index=pad_idx)\n",
        "optimizer = optim.Adam(model.parameters(), learning_rate)\n",
        "scheduler = torch.optim.lr_scheduler.ReduceLROnPlateau(optimizer, mode='min', factor=0.5, patience=3)"
      ]
    },
    {
      "cell_type": "code",
      "execution_count": 134,
      "metadata": {
        "colab": {
          "base_uri": "https://localhost:8080/"
        },
        "id": "G12qWUUtS0yu",
        "outputId": "c7dbe368-8b44-4984-890d-12198c1bdc1b"
      },
      "outputs": [
        {
          "name": "stderr",
          "output_type": "stream",
          "text": [
            "100%|██████████| 67/67 [00:02<00:00, 24.64it/s]\n"
          ]
        },
        {
          "name": "stdout",
          "output_type": "stream",
          "text": [
            "Train Loss: 6.6787\n",
            "Train Perplexity: 795.2762\n",
            "Val Loss: 6.1043\n",
            "Val Perplexity: 447.7665\n"
          ]
        },
        {
          "name": "stderr",
          "output_type": "stream",
          "text": [
            "100%|██████████| 67/67 [00:02<00:00, 25.31it/s]\n"
          ]
        },
        {
          "name": "stdout",
          "output_type": "stream",
          "text": [
            "Train Loss: 6.2771\n",
            "Train Perplexity: 532.2511\n",
            "Val Loss: 6.0435\n",
            "Val Perplexity: 421.3833\n"
          ]
        },
        {
          "name": "stderr",
          "output_type": "stream",
          "text": [
            "100%|██████████| 67/67 [00:02<00:00, 24.96it/s]\n"
          ]
        },
        {
          "name": "stdout",
          "output_type": "stream",
          "text": [
            "Train Loss: 6.1627\n",
            "Train Perplexity: 474.6846\n",
            "Val Loss: 5.9584\n",
            "Val Perplexity: 386.9861\n"
          ]
        },
        {
          "name": "stderr",
          "output_type": "stream",
          "text": [
            "100%|██████████| 67/67 [00:02<00:00, 24.47it/s]\n"
          ]
        },
        {
          "name": "stdout",
          "output_type": "stream",
          "text": [
            "Train Loss: 6.0534\n",
            "Train Perplexity: 425.5695\n",
            "Val Loss: 5.8279\n",
            "Val Perplexity: 339.6581\n"
          ]
        },
        {
          "name": "stderr",
          "output_type": "stream",
          "text": [
            "100%|██████████| 67/67 [00:02<00:00, 25.19it/s]\n"
          ]
        },
        {
          "name": "stdout",
          "output_type": "stream",
          "text": [
            "Train Loss: 5.9237\n",
            "Train Perplexity: 373.7765\n",
            "Val Loss: 5.6836\n",
            "Val Perplexity: 294.0176\n"
          ]
        },
        {
          "name": "stderr",
          "output_type": "stream",
          "text": [
            "100%|██████████| 67/67 [00:02<00:00, 24.84it/s]\n"
          ]
        },
        {
          "name": "stdout",
          "output_type": "stream",
          "text": [
            "Train Loss: 5.7866\n",
            "Train Perplexity: 325.9071\n",
            "Val Loss: 5.5591\n",
            "Val Perplexity: 259.5934\n"
          ]
        },
        {
          "name": "stderr",
          "output_type": "stream",
          "text": [
            "100%|██████████| 67/67 [00:02<00:00, 24.03it/s]\n"
          ]
        },
        {
          "name": "stdout",
          "output_type": "stream",
          "text": [
            "Train Loss: 5.6655\n",
            "Train Perplexity: 288.7353\n",
            "Val Loss: 5.4521\n",
            "Val Perplexity: 233.2475\n"
          ]
        },
        {
          "name": "stderr",
          "output_type": "stream",
          "text": [
            "100%|██████████| 67/67 [00:02<00:00, 24.18it/s]\n"
          ]
        },
        {
          "name": "stdout",
          "output_type": "stream",
          "text": [
            "Train Loss: 5.5737\n",
            "Train Perplexity: 263.4079\n",
            "Val Loss: 5.3821\n",
            "Val Perplexity: 217.4773\n"
          ]
        },
        {
          "name": "stderr",
          "output_type": "stream",
          "text": [
            "100%|██████████| 67/67 [00:02<00:00, 24.65it/s]\n"
          ]
        },
        {
          "name": "stdout",
          "output_type": "stream",
          "text": [
            "Train Loss: 5.4903\n",
            "Train Perplexity: 242.3327\n",
            "Val Loss: 5.3196\n",
            "Val Perplexity: 204.3043\n"
          ]
        },
        {
          "name": "stderr",
          "output_type": "stream",
          "text": [
            "100%|██████████| 67/67 [00:02<00:00, 24.69it/s]\n"
          ]
        },
        {
          "name": "stdout",
          "output_type": "stream",
          "text": [
            "Train Loss: 5.4206\n",
            "Train Perplexity: 226.0228\n",
            "Val Loss: 5.2582\n",
            "Val Perplexity: 192.1346\n"
          ]
        },
        {
          "name": "stderr",
          "output_type": "stream",
          "text": [
            "100%|██████████| 67/67 [00:02<00:00, 24.06it/s]\n"
          ]
        },
        {
          "name": "stdout",
          "output_type": "stream",
          "text": [
            "Train Loss: 5.3623\n",
            "Train Perplexity: 213.2093\n",
            "Val Loss: 5.2141\n",
            "Val Perplexity: 183.8463\n"
          ]
        },
        {
          "name": "stderr",
          "output_type": "stream",
          "text": [
            "100%|██████████| 67/67 [00:02<00:00, 24.40it/s]\n"
          ]
        },
        {
          "name": "stdout",
          "output_type": "stream",
          "text": [
            "Train Loss: 5.3142\n",
            "Train Perplexity: 203.1936\n",
            "Val Loss: 5.1813\n",
            "Val Perplexity: 177.9165\n"
          ]
        },
        {
          "name": "stderr",
          "output_type": "stream",
          "text": [
            "100%|██████████| 67/67 [00:02<00:00, 24.79it/s]\n"
          ]
        },
        {
          "name": "stdout",
          "output_type": "stream",
          "text": [
            "Train Loss: 5.2614\n",
            "Train Perplexity: 192.7569\n",
            "Val Loss: 5.1480\n",
            "Val Perplexity: 172.0832\n"
          ]
        },
        {
          "name": "stderr",
          "output_type": "stream",
          "text": [
            "100%|██████████| 67/67 [00:02<00:00, 24.67it/s]\n"
          ]
        },
        {
          "name": "stdout",
          "output_type": "stream",
          "text": [
            "Train Loss: 5.2197\n",
            "Train Perplexity: 184.8770\n",
            "Val Loss: 5.1199\n",
            "Val Perplexity: 167.3129\n"
          ]
        },
        {
          "name": "stderr",
          "output_type": "stream",
          "text": [
            "100%|██████████| 67/67 [00:02<00:00, 24.62it/s]\n"
          ]
        },
        {
          "name": "stdout",
          "output_type": "stream",
          "text": [
            "Train Loss: 5.1859\n",
            "Train Perplexity: 178.7327\n",
            "Val Loss: 5.0945\n",
            "Val Perplexity: 163.1187\n"
          ]
        },
        {
          "name": "stderr",
          "output_type": "stream",
          "text": [
            "100%|██████████| 67/67 [00:02<00:00, 24.76it/s]\n"
          ]
        },
        {
          "name": "stdout",
          "output_type": "stream",
          "text": [
            "Train Loss: 5.1467\n",
            "Train Perplexity: 171.8627\n",
            "Val Loss: 5.0781\n",
            "Val Perplexity: 160.4649\n"
          ]
        },
        {
          "name": "stderr",
          "output_type": "stream",
          "text": [
            "100%|██████████| 67/67 [00:02<00:00, 25.02it/s]\n"
          ]
        },
        {
          "name": "stdout",
          "output_type": "stream",
          "text": [
            "Train Loss: 5.1112\n",
            "Train Perplexity: 165.8641\n",
            "Val Loss: 5.0565\n",
            "Val Perplexity: 157.0383\n"
          ]
        },
        {
          "name": "stderr",
          "output_type": "stream",
          "text": [
            "100%|██████████| 67/67 [00:02<00:00, 25.18it/s]\n"
          ]
        },
        {
          "name": "stdout",
          "output_type": "stream",
          "text": [
            "Train Loss: 5.0842\n",
            "Train Perplexity: 161.4455\n",
            "Val Loss: 5.0398\n",
            "Val Perplexity: 154.4359\n"
          ]
        },
        {
          "name": "stderr",
          "output_type": "stream",
          "text": [
            "100%|██████████| 67/67 [00:02<00:00, 25.07it/s]\n"
          ]
        },
        {
          "name": "stdout",
          "output_type": "stream",
          "text": [
            "Train Loss: 5.0517\n",
            "Train Perplexity: 156.2902\n",
            "Val Loss: 5.0221\n",
            "Val Perplexity: 151.7250\n"
          ]
        },
        {
          "name": "stderr",
          "output_type": "stream",
          "text": [
            "100%|██████████| 67/67 [00:02<00:00, 25.53it/s]\n"
          ]
        },
        {
          "name": "stdout",
          "output_type": "stream",
          "text": [
            "Train Loss: 5.0175\n",
            "Train Perplexity: 151.0314\n",
            "Val Loss: 5.0139\n",
            "Val Perplexity: 150.4832\n"
          ]
        },
        {
          "name": "stderr",
          "output_type": "stream",
          "text": [
            "100%|██████████| 67/67 [00:02<00:00, 24.74it/s]\n"
          ]
        },
        {
          "name": "stdout",
          "output_type": "stream",
          "text": [
            "Train Loss: 4.9950\n",
            "Train Perplexity: 147.6780\n",
            "Val Loss: 5.0018\n",
            "Val Perplexity: 148.6737\n"
          ]
        },
        {
          "name": "stderr",
          "output_type": "stream",
          "text": [
            "100%|██████████| 67/67 [00:02<00:00, 25.45it/s]\n"
          ]
        },
        {
          "name": "stdout",
          "output_type": "stream",
          "text": [
            "Train Loss: 4.9629\n",
            "Train Perplexity: 143.0062\n",
            "Val Loss: 4.9883\n",
            "Val Perplexity: 146.6883\n"
          ]
        },
        {
          "name": "stderr",
          "output_type": "stream",
          "text": [
            "100%|██████████| 67/67 [00:02<00:00, 25.19it/s]\n"
          ]
        },
        {
          "name": "stdout",
          "output_type": "stream",
          "text": [
            "Train Loss: 4.9387\n",
            "Train Perplexity: 139.5920\n",
            "Val Loss: 4.9733\n",
            "Val Perplexity: 144.5027\n"
          ]
        },
        {
          "name": "stderr",
          "output_type": "stream",
          "text": [
            "100%|██████████| 67/67 [00:02<00:00, 25.43it/s]\n"
          ]
        },
        {
          "name": "stdout",
          "output_type": "stream",
          "text": [
            "Train Loss: 4.9156\n",
            "Train Perplexity: 136.3988\n",
            "Val Loss: 4.9651\n",
            "Val Perplexity: 143.3231\n"
          ]
        },
        {
          "name": "stderr",
          "output_type": "stream",
          "text": [
            "100%|██████████| 67/67 [00:02<00:00, 25.11it/s]\n"
          ]
        },
        {
          "name": "stdout",
          "output_type": "stream",
          "text": [
            "Train Loss: 4.8945\n",
            "Train Perplexity: 133.5493\n",
            "Val Loss: 4.9548\n",
            "Val Perplexity: 141.8501\n"
          ]
        },
        {
          "name": "stderr",
          "output_type": "stream",
          "text": [
            "100%|██████████| 67/67 [00:02<00:00, 24.96it/s]\n"
          ]
        },
        {
          "name": "stdout",
          "output_type": "stream",
          "text": [
            "Train Loss: 4.8656\n",
            "Train Perplexity: 129.7436\n",
            "Val Loss: 4.9426\n",
            "Val Perplexity: 140.1272\n"
          ]
        },
        {
          "name": "stderr",
          "output_type": "stream",
          "text": [
            "100%|██████████| 67/67 [00:02<00:00, 25.88it/s]\n"
          ]
        },
        {
          "name": "stdout",
          "output_type": "stream",
          "text": [
            "Train Loss: 4.8418\n",
            "Train Perplexity: 126.7014\n",
            "Val Loss: 4.9352\n",
            "Val Perplexity: 139.1050\n"
          ]
        },
        {
          "name": "stderr",
          "output_type": "stream",
          "text": [
            "100%|██████████| 67/67 [00:02<00:00, 25.25it/s]\n"
          ]
        },
        {
          "name": "stdout",
          "output_type": "stream",
          "text": [
            "Train Loss: 4.8182\n",
            "Train Perplexity: 123.7380\n",
            "Val Loss: 4.9367\n",
            "Val Perplexity: 139.3101\n"
          ]
        },
        {
          "name": "stderr",
          "output_type": "stream",
          "text": [
            "100%|██████████| 67/67 [00:02<00:00, 25.90it/s]\n"
          ]
        },
        {
          "name": "stdout",
          "output_type": "stream",
          "text": [
            "Train Loss: 4.7982\n",
            "Train Perplexity: 121.2948\n",
            "Val Loss: 4.9244\n",
            "Val Perplexity: 137.6084\n"
          ]
        },
        {
          "name": "stderr",
          "output_type": "stream",
          "text": [
            "100%|██████████| 67/67 [00:02<00:00, 24.88it/s]\n"
          ]
        },
        {
          "name": "stdout",
          "output_type": "stream",
          "text": [
            "Train Loss: 4.7779\n",
            "Train Perplexity: 118.8538\n",
            "Val Loss: 4.9083\n",
            "Val Perplexity: 135.4132\n"
          ]
        }
      ],
      "source": [
        "model = train_model(model, train_loader, val_loader, optimizer, criterion, num_epochs, patience,scheduler)"
      ]
    },
    {
      "cell_type": "markdown",
      "metadata": {
        "id": "iTf6P07VS6Hh"
      },
      "source": [
        "Perplexity Scores"
      ]
    },
    {
      "cell_type": "code",
      "execution_count": 135,
      "metadata": {
        "colab": {
          "base_uri": "https://localhost:8080/"
        },
        "id": "WpGQp3m2SxTc",
        "outputId": "e008707b-8768-4c63-c82c-f2668c106da3"
      },
      "outputs": [
        {
          "name": "stdout",
          "output_type": "stream",
          "text": [
            "\n",
            "Train Loss: 4.505523183452549\n",
            "Train Perplexity: 90.51569366455078\n"
          ]
        }
      ],
      "source": [
        "loss, perplexity = test_model(model, train_loader, criterion, pad_idx)\n",
        "print(f'\\nTrain Loss: {loss}')\n",
        "print(f'Train Perplexity: {perplexity}')"
      ]
    },
    {
      "cell_type": "code",
      "execution_count": 136,
      "metadata": {
        "colab": {
          "base_uri": "https://localhost:8080/"
        },
        "id": "1zMJ6vLWTAgh",
        "outputId": "d014dc92-f652-480c-b178-4429b2a9eff3"
      },
      "outputs": [
        {
          "name": "stdout",
          "output_type": "stream",
          "text": [
            "\n",
            "Val Loss: 4.912246982256572\n",
            "Val Perplexity: 135.94456481933594\n"
          ]
        }
      ],
      "source": [
        "loss, perplexity = test_model(model, val_loader, criterion, pad_idx)\n",
        "print(f'\\nVal Loss: {loss}')\n",
        "print(f'Val Perplexity: {perplexity}')"
      ]
    },
    {
      "cell_type": "code",
      "execution_count": 137,
      "metadata": {
        "colab": {
          "base_uri": "https://localhost:8080/"
        },
        "id": "BOw4TEHuTDVV",
        "outputId": "9a097862-a1a2-41ae-d00b-7626b515815d"
      },
      "outputs": [
        {
          "name": "stdout",
          "output_type": "stream",
          "text": [
            "\n",
            "Test Loss: 4.926246250376982\n",
            "Test Perplexity: 137.8610382080078\n"
          ]
        }
      ],
      "source": [
        "loss, perplexity = test_model(model, test_loader, criterion, pad_idx)\n",
        "print(f'\\nTest Loss: {loss}')\n",
        "print(f'Test Perplexity: {perplexity}')"
      ]
    },
    {
      "cell_type": "code",
      "execution_count": 139,
      "metadata": {
        "colab": {
          "base_uri": "https://localhost:8080/"
        },
        "id": "M9PECkOvTFZs",
        "outputId": "f1f0979b-1f5c-493f-e6d9-aa225c976c7f"
      },
      "outputs": [
        {
          "data": {
            "text/plain": [
              "163.99615225514597"
            ]
          },
          "execution_count": 139,
          "metadata": {},
          "output_type": "execute_result"
        }
      ],
      "source": [
        "save_perplexities_lstm(model, encoded_train, criterion, '2024201073_LSTM_pp_train_perplexity.txt', vocab)\n",
        "save_perplexities_lstm(model, encoded_val, criterion, '2024201073_LSTM_pp_val_perplexity.txt', vocab)\n",
        "save_perplexities_lstm(model, encoded_test, criterion, '2024201073_LSTM_pp_test_perplexity.txt', vocab)"
      ]
    },
    {
      "cell_type": "code",
      "execution_count": 138,
      "metadata": {
        "colab": {
          "base_uri": "https://localhost:8080/"
        },
        "id": "rG8EJMWjTaSS",
        "outputId": "424a7782-2b09-436b-ac79-4ee624f604e7"
      },
      "outputs": [
        {
          "name": "stdout",
          "output_type": "stream",
          "text": [
            "Data saved successfully!\n"
          ]
        }
      ],
      "source": [
        "import pickle\n",
        "\n",
        "with open('data_store_lstm.pkl', 'wb') as f:\n",
        "    pickle.dump({\n",
        "        'embeddings': embeddings,\n",
        "        'vocab': vocab,\n",
        "        'word_to_idx': word_to_idx,\n",
        "        'encoded_train': encoded_train,\n",
        "        'encoded_val': encoded_val,\n",
        "        'encoded_test': encoded_test,\n",
        "    }, f)\n",
        "\n",
        "print(\"Data saved successfully!\")"
      ]
    },
    {
      "cell_type": "code",
      "execution_count": null,
      "metadata": {
        "id": "6uXBV-HNHaLa"
      },
      "outputs": [],
      "source": []
    }
  ],
  "metadata": {
    "accelerator": "GPU",
    "colab": {
      "gpuType": "T4",
      "provenance": []
    },
    "kernelspec": {
      "display_name": "Python 3",
      "name": "python3"
    },
    "language_info": {
      "name": "python"
    }
  },
  "nbformat": 4,
  "nbformat_minor": 0
}
